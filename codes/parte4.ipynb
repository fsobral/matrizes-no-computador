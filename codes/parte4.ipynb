{
 "cells": [
  {
   "cell_type": "code",
   "execution_count": 1,
   "metadata": {},
   "outputs": [],
   "source": [
    "using LinearAlgebra"
   ]
  },
  {
   "cell_type": "markdown",
   "metadata": {},
   "source": [
    "## Outros meios de resolver sistemas"
   ]
  },
  {
   "cell_type": "markdown",
   "metadata": {},
   "source": [
    "Vamos testar alguns métodos de resolução de sistemas e analisar o tempo gasto por cada um deles."
   ]
  },
  {
   "cell_type": "markdown",
   "metadata": {},
   "source": [
    "Primeiramente, vejamos a resolução de um sistema aleatório usando cálculo da inversa:"
   ]
  },
  {
   "cell_type": "code",
   "execution_count": 2,
   "metadata": {},
   "outputs": [
    {
     "data": {
      "text/plain": [
       "t1 (generic function with 1 method)"
      ]
     },
     "execution_count": 2,
     "metadata": {},
     "output_type": "execute_result"
    }
   ],
   "source": [
    "function t1(n, k)\n",
    "   for i = 1:k\n",
    "       A = rand(n, n)\n",
    "       b = rand(n)\n",
    "        inv(A) * b\n",
    "   end\n",
    "end"
   ]
  },
  {
   "cell_type": "code",
   "execution_count": 3,
   "metadata": {},
   "outputs": [
    {
     "name": "stdout",
     "output_type": "stream",
     "text": [
      "  0.973613 seconds (2.01 k allocations: 305.506 MiB, 2.89% gc time)\n"
     ]
    }
   ],
   "source": [
    "@time t1(300, 200)"
   ]
  },
  {
   "cell_type": "markdown",
   "metadata": {},
   "source": [
    "Podemos também analisar a fatoração $LU$ da máquina."
   ]
  },
  {
   "cell_type": "code",
   "execution_count": 4,
   "metadata": {},
   "outputs": [
    {
     "data": {
      "text/plain": [
       "t2 (generic function with 1 method)"
      ]
     },
     "execution_count": 4,
     "metadata": {},
     "output_type": "execute_result"
    }
   ],
   "source": [
    "function t2(n, k)\n",
    "   for i = 1:k\n",
    "       A = rand(n, n)\n",
    "       b = rand(n)\n",
    "        lu(A) \\ b\n",
    "   end\n",
    "end"
   ]
  },
  {
   "cell_type": "code",
   "execution_count": 5,
   "metadata": {},
   "outputs": [
    {
     "name": "stdout",
     "output_type": "stream",
     "text": [
      "  0.504163 seconds (1.60 k allocations: 276.160 MiB, 4.34% gc time)\n"
     ]
    }
   ],
   "source": [
    "@time t2(300, 200)"
   ]
  },
  {
   "cell_type": "markdown",
   "metadata": {},
   "source": [
    "# Fatoração LU e resolução de sistemas"
   ]
  },
  {
   "cell_type": "markdown",
   "metadata": {},
   "source": [
    "Para resolver um sistema da forma $Ax = b,$ podemos encontrar $L$ e $U,$ tais que $$A=LU.$$ Então, operamos $$Ly=b \\text{    e   } Ux=y.$$"
   ]
  },
  {
   "cell_type": "markdown",
   "metadata": {},
   "source": [
    "## Fatoração LU"
   ]
  },
  {
   "cell_type": "markdown",
   "metadata": {},
   "source": [
    "Neste problema, dada uma matriz $A,$ queremos ver a sua fatoração $LU.$"
   ]
  },
  {
   "cell_type": "code",
   "execution_count": 6,
   "metadata": {},
   "outputs": [
    {
     "data": {
      "text/plain": [
       "show_LU (generic function with 1 method)"
      ]
     },
     "execution_count": 6,
     "metadata": {},
     "output_type": "execute_result"
    }
   ],
   "source": [
    "show_LU(A)=\n",
    "begin\n",
    "    n, n = size(A)\n",
    "    #criamos a matriz L\n",
    "    L = zeros(n, n)\n",
    "    L[1, 1] = 1\n",
    "    #criamos a matriz U\n",
    "    U = copy(A)\n",
    "    \n",
    "    for j = 1 : n - 1\n",
    "        for i = j + 1 : n\n",
    "            #fazemos a eliminação gaussiana\n",
    "            t = U[i, j] / U[j, j]\n",
    "            U[i, :] = U[i, :] - t * U[j, :]\n",
    "            #a diagonal principal de L é preenchida por 1\n",
    "            L[i, i] = 1\n",
    "            #guardamos t(pivô) na matriz L\n",
    "            L[i, j] = t\n",
    "        end\n",
    "    end\n",
    "    display(L)\n",
    "    display(U)\n",
    "end"
   ]
  },
  {
   "cell_type": "code",
   "execution_count": 7,
   "metadata": {},
   "outputs": [
    {
     "data": {
      "text/plain": [
       "3×3 Array{Float64,2}:\n",
       " 6.0  18.0  22.0\n",
       " 4.0   7.0   7.0\n",
       " 2.0   2.0   2.0"
      ]
     },
     "execution_count": 7,
     "metadata": {},
     "output_type": "execute_result"
    }
   ],
   "source": [
    "A = [6.0 18 22; 4 7 7; 2 2 2]"
   ]
  },
  {
   "cell_type": "code",
   "execution_count": 8,
   "metadata": {},
   "outputs": [
    {
     "data": {
      "text/plain": [
       "3×3 Array{Float64,2}:\n",
       " 1.0       0.0  0.0\n",
       " 0.666667  1.0  0.0\n",
       " 0.333333  0.8  1.0"
      ]
     },
     "metadata": {},
     "output_type": "display_data"
    },
    {
     "data": {
      "text/plain": [
       "3×3 Array{Float64,2}:\n",
       " 6.0  18.0  22.0\n",
       " 0.0  -5.0  -7.66667\n",
       " 0.0   0.0   0.8"
      ]
     },
     "metadata": {},
     "output_type": "display_data"
    }
   ],
   "source": [
    "show_LU(A)"
   ]
  },
  {
   "cell_type": "markdown",
   "metadata": {},
   "source": [
    "Note que no programa anterior estamos ocupando mais espaço na memória do que o necessário, uma vez que podemos guardar $L$ e $U$ em uma única matriz, ou ainda, na matriz inicial $A.$ Este segundo meio não vamos trabahar aqui para preservarmos a matriz $A.$ Vejamos a seguir."
   ]
  },
  {
   "cell_type": "code",
   "execution_count": 9,
   "metadata": {},
   "outputs": [
    {
     "data": {
      "text/plain": [
       "calculate_LU (generic function with 1 method)"
      ]
     },
     "execution_count": 9,
     "metadata": {},
     "output_type": "execute_result"
    }
   ],
   "source": [
    "calculate_LU(A)=\n",
    "begin\n",
    "    n, n = size(A)\n",
    "    #criamos a matriz LU que irá guardar L na parte inferior e U na parte superior\n",
    "    LU = copy(A)\n",
    "    \n",
    "    for j = 1 : n - 1\n",
    "        for i = j + 1 : n\n",
    "            t = LU[i, j] / LU[j, j]\n",
    "            #armazenamos a U na diagonal principal e posições acima\n",
    "            LU[i, j : n] = LU[i, j : n] - t * LU[j, j : n]\n",
    "            #armazenamos L nas entradas abaixo da diagonal principal\n",
    "            LU[i, j] = t\n",
    "        end\n",
    "    end\n",
    "    \n",
    "    return LU\n",
    "end"
   ]
  },
  {
   "cell_type": "code",
   "execution_count": 10,
   "metadata": {},
   "outputs": [
    {
     "data": {
      "text/plain": [
       "3×3 Array{Float64,2}:\n",
       " 6.0       18.0  22.0\n",
       " 0.666667  -5.0  -7.66667\n",
       " 0.333333   0.8   0.8"
      ]
     },
     "execution_count": 10,
     "metadata": {},
     "output_type": "execute_result"
    }
   ],
   "source": [
    "calculate_LU(A)"
   ]
  },
  {
   "cell_type": "markdown",
   "metadata": {},
   "source": [
    "### Pivoteamento"
   ]
  },
  {
   "cell_type": "markdown",
   "metadata": {},
   "source": [
    "Durante o calculo da fatoração $LU$ é necessário realizar algumas divisões para calcular o que chamamos de pivôs. Porém, o que acontece quando o pivô é zero? Vejamos a seguir."
   ]
  },
  {
   "cell_type": "code",
   "execution_count": 11,
   "metadata": {},
   "outputs": [
    {
     "data": {
      "text/plain": [
       "3×3 Array{Float64,2}:\n",
       "  0.0    3.0   -1.0\n",
       " Inf   -Inf    Inf\n",
       " Inf   NaN    NaN"
      ]
     },
     "execution_count": 11,
     "metadata": {},
     "output_type": "execute_result"
    }
   ],
   "source": [
    "B = [0.0 3 -1; 2 7 23; 1 5 14]\n",
    "calculate_LU(B)"
   ]
  },
  {
   "cell_type": "markdown",
   "metadata": {},
   "source": [
    "Não é possível calcular a fatoração uma vez que estamos dividindo por zero. Porém, note que se trocassemos as linhas 1 e 2 conseguiriamos calcular a fatoração e não perderíamos informações do sistema. Para isso, vamos usar um processo chamado pivoteamento, onde vamos organizar nossa matriz de forma a evitar pivôs zeros."
   ]
  },
  {
   "cell_type": "markdown",
   "metadata": {},
   "source": [
    "A mudança de linhas não afetará o resultado de nosso sistema desde que operemos a mesma alteração de linhas no vetor que contém o lado direito do sistema."
   ]
  },
  {
   "cell_type": "markdown",
   "metadata": {},
   "source": [
    "No programa a seguir, vamos calcular a fatoração $LU$ com o pivoteamento, esse programa ira retornar a matriz $LU$ e um vetor $p$ que armazenará a posição final de cada linha da matriz. "
   ]
  },
  {
   "cell_type": "code",
   "execution_count": 12,
   "metadata": {},
   "outputs": [
    {
     "data": {
      "text/plain": [
       "LU_pivoting (generic function with 1 method)"
      ]
     },
     "execution_count": 12,
     "metadata": {},
     "output_type": "execute_result"
    }
   ],
   "source": [
    "LU_pivoting(A)=\n",
    "begin\n",
    "    n,n = size(A)\n",
    "    LU = copy(A)\n",
    "    p = zeros(Int, n - 1)\n",
    "    α = zeros(n)\n",
    "    \n",
    "    for j = 1 : n - 1\n",
    "        \n",
    "        #realizamos o pivoteamento\n",
    "        pivo = LU[j,j]\n",
    "        m = j\n",
    "        \n",
    "        for k = j + 1 : n\n",
    "            if abs(pivo) < abs(LU[k, j])\n",
    "                pivo = LU[k, j]\n",
    "                m = k\n",
    "            end\n",
    "        end\n",
    "        \n",
    "        if abs(pivo) <= 1.0e-8 \n",
    "            println(\"Determinante próximo de 0\")\n",
    "        end\n",
    "        \n",
    "        #fazemos a troca de linhas quando necessário\n",
    "        if m != j\n",
    "            α .= LU[m, :] \n",
    "            LU[m, :] = LU[j, :]\n",
    "            LU[j, :] .= α\n",
    "            \n",
    "        end\n",
    "        \n",
    "        #guardamos em p\n",
    "         p[j] = m\n",
    "        \n",
    "        #realizamos a fatoração com a matriz com as linhas trocadas\n",
    "        for i = j + 1 : n\n",
    "            t = LU[i, j] / LU[j, j]\n",
    "            @. LU[i, j : n] = LU[i, j : n] - t * LU[j, j : n]\n",
    "            LU[i, j] = t\n",
    "        end\n",
    "    end\n",
    "   \n",
    "    return LU, p\n",
    "end"
   ]
  },
  {
   "cell_type": "markdown",
   "metadata": {},
   "source": [
    "Agora podemos calcular a fatoração da matriz $B.$ Observemos ainda que o vetor $p$ indica que houve uma troca das linhas 1 e 2."
   ]
  },
  {
   "cell_type": "code",
   "execution_count": 13,
   "metadata": {},
   "outputs": [
    {
     "data": {
      "text/plain": [
       "([2.0 7.0 23.0; 0.0 3.0 -1.0; 0.5 0.5 3.0], [2, 2])"
      ]
     },
     "execution_count": 13,
     "metadata": {},
     "output_type": "execute_result"
    }
   ],
   "source": [
    "B = [0.0 3 -1; 2 7 23; 1 5 14]\n",
    "LU_pivoting(B)"
   ]
  },
  {
   "cell_type": "markdown",
   "metadata": {},
   "source": [
    "## Resolvendo sistemas"
   ]
  },
  {
   "cell_type": "markdown",
   "metadata": {},
   "source": [
    "Agora que podemos calcular a fatoração $LU$ resta saber como resolver um sistema usando ela."
   ]
  },
  {
   "cell_type": "markdown",
   "metadata": {},
   "source": [
    "O programa a seguir ira resolver um sistema da forma $$LUx = b,$$ para isso colocamos a fatoração $LU$ e o vetor com o lado direito do sistema, sem pivoteamento."
   ]
  },
  {
   "cell_type": "code",
   "execution_count": 14,
   "metadata": {},
   "outputs": [
    {
     "data": {
      "text/plain": [
       "solve_LU (generic function with 1 method)"
      ]
     },
     "execution_count": 14,
     "metadata": {},
     "output_type": "execute_result"
    }
   ],
   "source": [
    "solve_LU(LU, b)=\n",
    "begin\n",
    "    n, n = size(LU)\n",
    "    \n",
    "    #resolve Ly = b\n",
    "    #note que não é necessário separar a matriz L e a U\n",
    "    y = zeros(n)\n",
    "    \n",
    "    for k = 1 : n\n",
    "        s = 0 \n",
    "        for i = 1 : k - 1\n",
    "            s = s + y[i] * LU[k, i]\n",
    "        end\n",
    "        \n",
    "        y[k] = b[k] - s\n",
    "    end\n",
    "    \n",
    "    #resolve Ux = y\n",
    "    x = zeros(n)\n",
    "    \n",
    "    for k = n : - 1 : 1 \n",
    "        s = 0\n",
    "        for i = n : - 1 : k + 1\n",
    "            s = s + x[i] * LU[k, i]\n",
    "        end\n",
    "        \n",
    "        x[k] = (y[k] - s) / LU[k, k]\n",
    "    end\n",
    "    \n",
    "    return x\n",
    "end"
   ]
  },
  {
   "cell_type": "markdown",
   "metadata": {},
   "source": [
    "Já este próximo programa, colocamos também de entrada o vetor $p$ com o pivoteamento, assim reorganizamos o vetor $b$ com o pivotemento para poder resolver o sistema de forma adequada usando o programa anterior."
   ]
  },
  {
   "cell_type": "code",
   "execution_count": 15,
   "metadata": {},
   "outputs": [
    {
     "data": {
      "text/plain": [
       "solve_pivoting (generic function with 1 method)"
      ]
     },
     "execution_count": 15,
     "metadata": {},
     "output_type": "execute_result"
    }
   ],
   "source": [
    "solve_pivoting(LU, b, p)=\n",
    "begin\n",
    "    n, n = size(LU)  \n",
    "    α = 0\n",
    "    \n",
    "    #organizamos o vetor b de acordo com o pivotemento em p\n",
    "    for i = 1 : n - 1\n",
    "        β = b[i]\n",
    "        b[i] = b[p[i]]\n",
    "        b[p[i]] = β\n",
    "    end\n",
    "    \n",
    "    b = solve_LU(LU, b)\n",
    "    return b\n",
    "end"
   ]
  },
  {
   "cell_type": "markdown",
   "metadata": {},
   "source": [
    "Por fim, o programa a seguir resolve todo o sistema de forma direta, ou seja, colocamos a matriz original $A$ e o vetor $b$ contendo o lado direito do sistema, o programa então realiza o pivotemaneto, a fatoração e por fim resolve nosso sistema."
   ]
  },
  {
   "cell_type": "code",
   "execution_count": 16,
   "metadata": {},
   "outputs": [
    {
     "data": {
      "text/plain": [
       "solve (generic function with 1 method)"
      ]
     },
     "execution_count": 16,
     "metadata": {},
     "output_type": "execute_result"
    }
   ],
   "source": [
    "solve(A, b)=\n",
    "begin\n",
    "    A, p = LU_pivoting(A) \n",
    "    b = solve_pivoting(A, b, p)\n",
    "    return b\n",
    "end"
   ]
  },
  {
   "cell_type": "code",
   "execution_count": 17,
   "metadata": {},
   "outputs": [
    {
     "data": {
      "text/plain": [
       "4-element Array{Float64,1}:\n",
       "  12.0\n",
       "   6.0\n",
       " -13.0\n",
       " -15.0"
      ]
     },
     "execution_count": 17,
     "metadata": {},
     "output_type": "execute_result"
    }
   ],
   "source": [
    "A2 = [1.0 2 -3 4; 4 8 12 -8; 2 3 2 1; -3 -1 1 -4]\n",
    "b2 = [3.0; 60; 1; 5]\n",
    "solve(A2, b2)"
   ]
  },
  {
   "cell_type": "code",
   "execution_count": 18,
   "metadata": {},
   "outputs": [
    {
     "data": {
      "text/plain": [
       "5-element Array{Float64,1}:\n",
       "  0.02834897729427483\n",
       "  0.16350408268766617\n",
       "  0.9314243212809877\n",
       " -0.8543084602362935\n",
       "  0.10889329647409797"
      ]
     },
     "execution_count": 18,
     "metadata": {},
     "output_type": "execute_result"
    }
   ],
   "source": [
    "A3 = [732.0 8 1 0 46; 54 14 16 21 2; 7 7 27 37 47; 14 21 8 64 123; 28 17 15 14 13]\n",
    "b3 = [28.0; 1; 0; -30; 7]\n",
    "solve(A3, b3)"
   ]
  },
  {
   "cell_type": "code",
   "execution_count": null,
   "metadata": {},
   "outputs": [],
   "source": []
  }
 ],
 "metadata": {
  "kernelspec": {
   "display_name": "Julia 1.4.1",
   "language": "julia",
   "name": "julia-1.4"
  },
  "language_info": {
   "file_extension": ".jl",
   "mimetype": "application/julia",
   "name": "julia",
   "version": "1.4.1"
  }
 },
 "nbformat": 4,
 "nbformat_minor": 4
}
