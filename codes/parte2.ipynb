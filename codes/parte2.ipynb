{
 "cells": [
  {
   "cell_type": "markdown",
   "metadata": {},
   "source": [
    "# Algoritmos de multiplicação\n",
    "\n",
    "Aprendemos na escola a multiplicar duas matrizes $A \\in \\mathbb{R}^{m \\times p}$ e $B \\in \\mathbb{R}^{p \\times n}$ usando a fórmula $c_{i, j} = \\sum \\limits_{k = 1}^p a_{i, k} b_{k, j}$. O que não nos ensinam é que há mais duas formas de interpretar a multiplicação."
   ]
  },
  {
   "cell_type": "markdown",
   "metadata": {},
   "source": [
    "## Interpretação 1: produto escalar\n",
    "\n",
    "Forma mais tradicional. Basta observarmos que se $C = A \\cdot B$, então\n",
    "$$\n",
    "c_{i, j} = \\sum \\limits_{k = 1}^p a_{i, k} b_{k, j} = A_i \\odot B^j\n",
    "$$"
   ]
  },
  {
   "cell_type": "code",
   "execution_count": 1,
   "metadata": {},
   "outputs": [],
   "source": [
    "A = [1 2 3 4;\n",
    "     5 6 7 8];\n",
    "\n",
    "B = [1 2 1;\n",
    "     3 4 1;\n",
    "     5 6 1;\n",
    "     7 8 1];"
   ]
  },
  {
   "cell_type": "code",
   "execution_count": 2,
   "metadata": {},
   "outputs": [
    {
     "name": "stdout",
     "output_type": "stream",
     "text": [
      "Dimensao A: 2 x 4.\n",
      "Dimensao B: 4 x 3.\n",
      "O elemento C_2,3 = 26.\n"
     ]
    }
   ],
   "source": [
    "# Comandos para obter as dimensoes das matrizes\n",
    "mA, nA = size(A)\n",
    "mB, nB = size(B)\n",
    "\n",
    "println(\"Dimensao A: $(mA) x $(nA).\")\n",
    "println(\"Dimensao B: $(mB) x $(nB).\")\n",
    "\n",
    "m = mA\n",
    "p = nA # ou mB\n",
    "n = nB\n",
    "\n",
    "# Escolhe i e j\n",
    "i = 2\n",
    "j = 3\n",
    "\n",
    "# Calcula o somatorio\n",
    "cij = 0\n",
    "\n",
    "for k = 1:p\n",
    "    cij = cij + A[i, k] * B[k, j]\n",
    "end\n",
    "\n",
    "println(\"O elemento C_$(i),$(j) = $(cij).\")"
   ]
  },
  {
   "cell_type": "markdown",
   "metadata": {},
   "source": [
    "Experimente:\n",
    "\n",
    "  - Modificar os valores das variáveis `i` e `j`\n",
    "  - Colocar valores de `i` e `j` maiores que a dimensão das matrizes\n",
    "  - Definir `p` como `mB` ao invés de `nA`\n",
    "  \n",
    "  Podemos também substituir as linhas 17-21 do somatório pela função `dot` do Julia que calcula o produto escalar"
   ]
  },
  {
   "cell_type": "code",
   "execution_count": 3,
   "metadata": {},
   "outputs": [
    {
     "name": "stdout",
     "output_type": "stream",
     "text": [
      "O elemento C_2,3 = 26.\n"
     ]
    }
   ],
   "source": [
    "cij = dot(A[i,:], B[:, j])\n",
    "\n",
    "println(\"O elemento C_$(i),$(j) = $(cij).\")"
   ]
  },
  {
   "cell_type": "markdown",
   "metadata": {},
   "source": [
    "Os elementos $c_{i, j}$ têm que ser calculados para todo $i$ e $j$, e para isso usamos 2 laços do tipo `for`"
   ]
  },
  {
   "cell_type": "code",
   "execution_count": 4,
   "metadata": {},
   "outputs": [
    {
     "data": {
      "text/plain": [
       "2×3 Array{Float64,2}:\n",
       "  50.0   60.0  10.0\n",
       " 114.0  140.0  26.0"
      ]
     },
     "metadata": {},
     "output_type": "display_data"
    }
   ],
   "source": [
    "C = Array(Float64, m, n)\n",
    "\n",
    "for i = 1:m\n",
    "    for j = 1:n\n",
    "        \n",
    "        # Aqui copiamos o codigo de cij\n",
    "        # Calcula o somatorio\n",
    "        C[i, j] = 0\n",
    "\n",
    "        for k = 1:p\n",
    "            C[i, j] = C[i, j] + A[i, k] * B[k, j]\n",
    "        end\n",
    "        \n",
    "    end\n",
    "end\n",
    "\n",
    "display(C)"
   ]
  },
  {
   "cell_type": "markdown",
   "metadata": {},
   "source": [
    "Experimente trocar as ordem dos laços `for` nas linhas 3 e 4. A única diferença é na forma como calculamos os elementos de $C$.\n",
    "\n",
    "A função abaixo implementa a multiplicação usando essa ideia."
   ]
  },
  {
   "cell_type": "code",
   "execution_count": 5,
   "metadata": {},
   "outputs": [
    {
     "data": {
      "text/plain": [
       "multiplica_mat_1 (generic function with 1 method)"
      ]
     },
     "execution_count": 5,
     "metadata": {},
     "output_type": "execute_result"
    }
   ],
   "source": [
    "function multiplica_mat_1(A, B)\n",
    "    \n",
    "    mA, nA = size(A)\n",
    "    mB, nB = size(B)\n",
    "\n",
    "    if nA != mB\n",
    "        \n",
    "        println(\"Erro. Dimensoes incompatíveis.\")\n",
    "        \n",
    "        return nothing\n",
    "        \n",
    "    end\n",
    "    \n",
    "    m = mA\n",
    "    p = nA # ou mB\n",
    "    n = nB\n",
    "    \n",
    "    C = Array(Float64, m, n)\n",
    "\n",
    "    for i = 1:m\n",
    "        for j = 1:n\n",
    "\n",
    "            # Aqui copiamos o codigo de cij\n",
    "            # Calcula o somatorio\n",
    "            C[i, j] = 0\n",
    "\n",
    "            for k = 1:p\n",
    "                C[i, j] = C[i, j] + A[i, k] * B[k, j]\n",
    "            end\n",
    "\n",
    "        end\n",
    "    end\n",
    "    \n",
    "    return C\n",
    "    \n",
    "end"
   ]
  },
  {
   "cell_type": "code",
   "execution_count": 6,
   "metadata": {},
   "outputs": [
    {
     "data": {
      "text/plain": [
       "2×3 Array{Float64,2}:\n",
       "  50.0   60.0  10.0\n",
       " 114.0  140.0  26.0"
      ]
     },
     "execution_count": 6,
     "metadata": {},
     "output_type": "execute_result"
    }
   ],
   "source": [
    "multiplica_mat_1(A, B)"
   ]
  },
  {
   "cell_type": "markdown",
   "metadata": {},
   "source": [
    "Experimentos com matrizes aleatórias grandes."
   ]
  },
  {
   "cell_type": "code",
   "execution_count": 8,
   "metadata": {},
   "outputs": [
    {
     "name": "stdout",
     "output_type": "stream",
     "text": [
      "Tempo para  100: 0.001497347\n",
      "Tempo para  200: 0.012077685\n",
      "Tempo para  400: 0.023268368\n",
      "Tempo para  800: 0.92554369\n",
      "Tempo para 1000: 1.18009939\n"
     ]
    }
   ],
   "source": [
    "A1 = rand(100, 100)\n",
    "B1 = rand(100, 100)\n",
    "\n",
    "println(\"Tempo para  100: \", @elapsed(multiplica_mat_1(A1, B1)))\n",
    "\n",
    "A1 = rand(200, 200)\n",
    "B1 = rand(200, 200)\n",
    "\n",
    "println(\"Tempo para  200: \", @elapsed(multiplica_mat_1(A1, B1)))\n",
    "\n",
    "A1 = rand(400, 400)\n",
    "B1 = rand(400, 400)\n",
    "\n",
    "println(\"Tempo para  400: \", @elapsed(multiplica_mat_1(A1, B1)))\n",
    "\n",
    "A1 = rand(800, 800)\n",
    "B1 = rand(800, 800)\n",
    "\n",
    "println(\"Tempo para  800: \", @elapsed(multiplica_mat_1(A1, B1)))\n",
    "\n",
    "A1 = rand(1000, 1000)\n",
    "B1 = rand(1000, 1000)\n",
    "\n",
    "println(\"Tempo para 1000: \", @elapsed(multiplica_mat_1(A1, B1)))"
   ]
  },
  {
   "cell_type": "markdown",
   "metadata": {},
   "source": [
    "Observe que quando **dobramos** a dimensão das matrizes, o tempo é **multiplicado por 8**. Dizemos que o custo computacional da multiplicação tradicional é $O(n^3)$, onde $n$ é a dimensão da matriz."
   ]
  },
  {
   "cell_type": "markdown",
   "metadata": {},
   "source": [
    "## Interpretação 2: por linha ou colunas\n",
    "\n",
    "A segunda interpretação ocorre quando olhamos a forma de uma coluna ou linha de $C$: $C_i$ ou $C^j$.\n",
    "$$\n",
    "C = A \\cdot B = \n",
    "\\begin{bmatrix}\n",
    "A \\cdot B^1 & \\cdots & A \\cdot B^n\n",
    "\\end{bmatrix}\n",
    "=\n",
    "\\begin{bmatrix}\n",
    "A_1 \\cdot B\\\\ \\vdots\\\\ A_m \\cdot B\n",
    "\\end{bmatrix}\n",
    "$$\n",
    "onde $A \\cdot B^j$ representa o produto entre a matriz $A$ e a coluna $j$ de $B$, e $A_i \\cdot B$ é o produto entre a linha $i$ de $A$ e a matriz $B$ inteira."
   ]
  },
  {
   "cell_type": "markdown",
   "metadata": {},
   "source": [
    "### Calculando $C^j$"
   ]
  },
  {
   "cell_type": "code",
   "execution_count": 2,
   "metadata": {},
   "outputs": [],
   "source": [
    "A = [1 2 3 4;\n",
    "     5 6 7 8];\n",
    "\n",
    "B = [1 2 1;\n",
    "     3 4 1;\n",
    "     5 6 1;\n",
    "     7 8 1];"
   ]
  },
  {
   "cell_type": "code",
   "execution_count": 27,
   "metadata": {},
   "outputs": [
    {
     "name": "stdout",
     "output_type": "stream",
     "text": [
      "Dimensao A: 2 x 4.\n",
      "Dimensao B: 4 x 3.\n",
      "C^3 = [10.0,26.0]\n"
     ]
    }
   ],
   "source": [
    "# Comandos para obter as dimensoes das matrizes\n",
    "mA, nA = size(A)\n",
    "mB, nB = size(B)\n",
    "\n",
    "println(\"Dimensao A: $(mA) x $(nA).\")\n",
    "println(\"Dimensao B: $(mB) x $(nB).\")\n",
    "\n",
    "m = mA\n",
    "p = nA # ou mB\n",
    "n = nB\n",
    "\n",
    "# Construindo a coluna j.\n",
    "# Precisa colocar zeros para somar.\n",
    "cj = zeros(Float64, m)\n",
    "\n",
    "j = 3\n",
    "\n",
    "for i = 1:m\n",
    "    \n",
    "    for k = 1:p\n",
    "    \n",
    "        cj[i] = cj[i] + A[i, k] * B[k, j]\n",
    "        \n",
    "    end\n",
    "    \n",
    "end\n",
    "\n",
    "println(\"C^$(j) = \", cj)"
   ]
  },
  {
   "cell_type": "markdown",
   "metadata": {},
   "source": [
    "As duas versões desse código são apresentadas abaixo."
   ]
  },
  {
   "cell_type": "code",
   "execution_count": 9,
   "metadata": {},
   "outputs": [
    {
     "data": {
      "text/plain": [
       "multiplica_mat_2_col_ki"
      ]
     },
     "execution_count": 9,
     "metadata": {},
     "output_type": "execute_result"
    }
   ],
   "source": [
    "\"\"\"\n",
    "Esta funcao multiplica duas matrizes, construindo a matriz produto por **colunas**.\n",
    "\"\"\"\n",
    "function multiplica_mat_2_col_ik(A, B)\n",
    "    \n",
    "    mA, nA = size(A)\n",
    "    mB, nB = size(B)\n",
    "\n",
    "    if nA != mB\n",
    "        \n",
    "        println(\"Erro. Dimensoes incompatíveis.\")\n",
    "        \n",
    "        return nothing\n",
    "        \n",
    "    end\n",
    "    \n",
    "    m = mA\n",
    "    p = nA # ou mB\n",
    "    n = nB\n",
    "    \n",
    "    C = zeros(Float64, m, n)\n",
    "    \n",
    "    for j = 1:n\n",
    "        \n",
    "        for i = 1:m\n",
    "\n",
    "            for k = 1:p\n",
    "                \n",
    "                # Atencao aqui! Temos que trocar cj por C[:, j]!\n",
    "                # Ou seja, a j-esima coluna de C\n",
    "                C[i, j] = C[i, j] + A[i, k] * B[k, j]\n",
    "\n",
    "            end\n",
    "\n",
    "        end\n",
    "        \n",
    "    end\n",
    "    \n",
    "    return C\n",
    "    \n",
    "end\n",
    "\n",
    "\"\"\"\n",
    "Esta funcao multiplica duas matrizes, construindo a matriz produto por **colunas**.\n",
    "\n",
    "Nesta versao, os lacos associados com `i` e `k` foram trocados de ordem: primeiro `k` e\n",
    "depois `i`.\n",
    "\"\"\"\n",
    "function multiplica_mat_2_col_ki(A, B)\n",
    "    \n",
    "    mA, nA = size(A)\n",
    "    mB, nB = size(B)\n",
    "\n",
    "    if nA != mB\n",
    "        \n",
    "        println(\"Erro. Dimensoes incompatíveis.\")\n",
    "        \n",
    "        return nothing\n",
    "        \n",
    "    end\n",
    "    \n",
    "    m = mA\n",
    "    p = nA # ou mB\n",
    "    n = nB\n",
    "    \n",
    "    C = zeros(Float64, m, n)\n",
    "    \n",
    "    for j = 1:n\n",
    "        \n",
    "        for k = 1:p\n",
    "\n",
    "            for i = 1:m\n",
    "                \n",
    "                # Atencao aqui! Temos que trocar cj por C[:, j]!\n",
    "                # Ou seja, a j-esima coluna de C\n",
    "                C[i, j] = C[i, j] + A[i, k] * B[k, j]\n",
    "\n",
    "            end\n",
    "\n",
    "        end\n",
    "        \n",
    "    end\n",
    "    \n",
    "    return C\n",
    "    \n",
    "end"
   ]
  },
  {
   "cell_type": "code",
   "execution_count": 10,
   "metadata": {},
   "outputs": [
    {
     "data": {
      "text/plain": [
       "2×3 Array{Float64,2}:\n",
       "  50.0   60.0  10.0\n",
       " 114.0  140.0  26.0"
      ]
     },
     "execution_count": 10,
     "metadata": {},
     "output_type": "execute_result"
    }
   ],
   "source": [
    "multiplica_mat_2_col_ik(A, B)"
   ]
  },
  {
   "cell_type": "code",
   "execution_count": 11,
   "metadata": {},
   "outputs": [
    {
     "data": {
      "text/plain": [
       "2×3 Array{Float64,2}:\n",
       "  50.0   60.0  10.0\n",
       " 114.0  140.0  26.0"
      ]
     },
     "execution_count": 11,
     "metadata": {},
     "output_type": "execute_result"
    }
   ],
   "source": [
    "multiplica_mat_2_col_ki(A, B)"
   ]
  },
  {
   "cell_type": "code",
   "execution_count": 12,
   "metadata": {},
   "outputs": [
    {
     "name": "stdout",
     "output_type": "stream",
     "text": [
      "Tempo para  100: 0.021346191\n",
      "Tempo para  200: 0.021350887\n",
      "Tempo para  400: 0.174076294\n",
      "Tempo para  800: 1.894931158\n",
      "Tempo para 1000: 3.504051009\n"
     ]
    }
   ],
   "source": [
    "A1 = rand(100, 100)\n",
    "B1 = rand(100, 100)\n",
    "\n",
    "println(\"Tempo para  100: \", @elapsed(multiplica_mat_2_col_ik(A1, B1)))\n",
    "\n",
    "A1 = rand(200, 200)\n",
    "B1 = rand(200, 200)\n",
    "\n",
    "println(\"Tempo para  200: \", @elapsed(multiplica_mat_2_col_ik(A1, B1)))\n",
    "\n",
    "A1 = rand(400, 400)\n",
    "B1 = rand(400, 400)\n",
    "\n",
    "println(\"Tempo para  400: \", @elapsed(multiplica_mat_2_col_ik(A1, B1)))\n",
    "\n",
    "A1 = rand(800, 800)\n",
    "B1 = rand(800, 800)\n",
    "\n",
    "println(\"Tempo para  800: \", @elapsed(multiplica_mat_2_col_ik(A1, B1)))\n",
    "\n",
    "A1 = rand(1000, 1000)\n",
    "B1 = rand(1000, 1000)\n",
    "\n",
    "println(\"Tempo para 1000: \", @elapsed(multiplica_mat_2_col_ik(A1, B1)))"
   ]
  },
  {
   "cell_type": "markdown",
   "metadata": {},
   "source": [
    "Experimentos para quando trocamos os laços `for` de ordem"
   ]
  },
  {
   "cell_type": "code",
   "execution_count": 13,
   "metadata": {},
   "outputs": [
    {
     "name": "stdout",
     "output_type": "stream",
     "text": [
      "Tempo para  100: 0.023084222\n",
      "Tempo para  200: 0.010044288\n",
      "Tempo para  400: 0.069490005\n",
      "Tempo para  800: 0.604068085\n",
      "Tempo para 1000: 1.021626343\n"
     ]
    }
   ],
   "source": [
    "A1 = rand(100, 100)\n",
    "B1 = rand(100, 100)\n",
    "\n",
    "println(\"Tempo para  100: \", @elapsed(multiplica_mat_2_col_ki(A1, B1)))\n",
    "\n",
    "A1 = rand(200, 200)\n",
    "B1 = rand(200, 200)\n",
    "\n",
    "println(\"Tempo para  200: \", @elapsed(multiplica_mat_2_col_ki(A1, B1)))\n",
    "\n",
    "A1 = rand(400, 400)\n",
    "B1 = rand(400, 400)\n",
    "\n",
    "println(\"Tempo para  400: \", @elapsed(multiplica_mat_2_col_ki(A1, B1)))\n",
    "\n",
    "A1 = rand(800, 800)\n",
    "B1 = rand(800, 800)\n",
    "\n",
    "println(\"Tempo para  800: \", @elapsed(multiplica_mat_2_col_ki(A1, B1)))\n",
    "\n",
    "A1 = rand(1000, 1000)\n",
    "B1 = rand(1000, 1000)\n",
    "\n",
    "println(\"Tempo para 1000: \", @elapsed(multiplica_mat_2_col_ki(A1, B1)))"
   ]
  },
  {
   "cell_type": "markdown",
   "metadata": {},
   "source": [
    "**Por que** a segunda função foi duas vezes mais rápida que a primeira?"
   ]
  },
  {
   "cell_type": "markdown",
   "metadata": {},
   "source": [
    "### Calculando $C_i$"
   ]
  },
  {
   "cell_type": "code",
   "execution_count": 25,
   "metadata": {},
   "outputs": [],
   "source": [
    "A = [1 2 3 4;\n",
    "     5 6 7 8];\n",
    "\n",
    "B = [1 2 1;\n",
    "     3 4 1;\n",
    "     5 6 1;\n",
    "     7 8 1];"
   ]
  },
  {
   "cell_type": "code",
   "execution_count": 26,
   "metadata": {},
   "outputs": [
    {
     "name": "stdout",
     "output_type": "stream",
     "text": [
      "Dimensao A: 2 x 4.\n",
      "Dimensao B: 4 x 3.\n",
      "C_2 = [114.0,140.0,26.0]\n"
     ]
    }
   ],
   "source": [
    "# Comandos para obter as dimensoes das matrizes\n",
    "mA, nA = size(A)\n",
    "mB, nB = size(B)\n",
    "\n",
    "println(\"Dimensao A: $(mA) x $(nA).\")\n",
    "println(\"Dimensao B: $(mB) x $(nB).\")\n",
    "\n",
    "m = mA\n",
    "p = nA # ou mB\n",
    "n = nB\n",
    "\n",
    "# Construindo a linha i.\n",
    "# Precisa colocar zeros para somar.\n",
    "ci = zeros(Float64, n)\n",
    "\n",
    "i = 2\n",
    "\n",
    "for j = 1:n\n",
    "    \n",
    "    for k = 1:p\n",
    "    \n",
    "        ci[j] = ci[j] + A[i, k] * B[k, j]\n",
    "        \n",
    "    end\n",
    "    \n",
    "end\n",
    "\n",
    "println(\"C_$(i) = \", ci)"
   ]
  },
  {
   "cell_type": "code",
   "execution_count": null,
   "metadata": {},
   "outputs": [],
   "source": []
  },
  {
   "cell_type": "code",
   "execution_count": null,
   "metadata": {},
   "outputs": [],
   "source": []
  },
  {
   "cell_type": "code",
   "execution_count": null,
   "metadata": {},
   "outputs": [],
   "source": []
  },
  {
   "cell_type": "code",
   "execution_count": null,
   "metadata": {},
   "outputs": [],
   "source": []
  },
  {
   "cell_type": "code",
   "execution_count": null,
   "metadata": {},
   "outputs": [],
   "source": []
  },
  {
   "cell_type": "markdown",
   "metadata": {},
   "source": [
    "## Usando funções já implementadas"
   ]
  },
  {
   "cell_type": "code",
   "execution_count": 22,
   "metadata": {},
   "outputs": [
    {
     "name": "stdout",
     "output_type": "stream",
     "text": [
      "0.038054193\n",
      "0.024211019\n"
     ]
    }
   ],
   "source": [
    "using Base.LinAlg.BLAS\n",
    "\n",
    "A1 = rand(1000, 1000)\n",
    "B1 = rand(1000, 1000)\n",
    "println(@elapsed(gemm('N', 'N', 1.0, A1, B1)))\n",
    "\n",
    "A1 = rand(1000, 1000)\n",
    "B1 = rand(1000, 1000)\n",
    "println(@elapsed(A1 * B1))"
   ]
  },
  {
   "cell_type": "code",
   "execution_count": null,
   "metadata": {},
   "outputs": [],
   "source": []
  }
 ],
 "metadata": {
  "kernelspec": {
   "display_name": "Julia 0.5.2",
   "language": "julia",
   "name": "julia-0.5"
  },
  "language_info": {
   "file_extension": ".jl",
   "mimetype": "application/julia",
   "name": "julia",
   "version": "0.5.2"
  }
 },
 "nbformat": 4,
 "nbformat_minor": 2
}
