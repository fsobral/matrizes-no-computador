{
 "cells": [
  {
   "cell_type": "markdown",
   "metadata": {},
   "source": [
    "# Algoritmos de multiplicação\n",
    "\n",
    "Aprendemos na escola a multiplicar duas matrizes $A \\in \\mathbb{R}^{m \\times p}$ e $B \\in \\mathbb{R}^{p \\times n}$ usando a fórmula $c_{i, j} = \\sum \\limits_{k = 1}^p a_{i, k} b_{k, j}$. O que não nos ensinam é que há mais duas formas de interpretar a multiplicação.\n",
    "\n",
    "Para entendê-las, primeiramente vamos olhar a multiplicação de matriz e um vetor.\n",
    "\n",
    "  - [Multiplicação entre matriz e vetor](#Matriz-x-vetor)\n",
    "  - [Multiplicação entre matriz e matriz](#Matriz-x-matriz)\n",
    "  - [Funções já existentes](#Usando-funções-já-implementadas)"
   ]
  },
  {
   "cell_type": "markdown",
   "metadata": {},
   "source": [
    "## Matriz x vetor\n",
    "\n",
    "Sejam $A \\in \\mathbb{R}^{m \\times n}$ e $v \\in \\mathbb{R}^n$. Existem duas formas de interpretarmos $u = A v$:\n",
    "\n",
    "  - Produto escalar com as linhas de $A$:\n",
    "  $$\n",
    "  u = \n",
    "  \\begin{bmatrix}\n",
    "  A_1 \\cdot v \\\\\n",
    "  \\vdots \\\\\n",
    "  A_m \\cdot v\n",
    "  \\end{bmatrix}\n",
    "  $$\n",
    "  - Combinação linear das colunas de $A$:\n",
    "  $$\n",
    "  u = A^1 v_1 + \\cdots + A^n v_n\n",
    "  $$"
   ]
  },
  {
   "cell_type": "markdown",
   "metadata": {},
   "source": [
    "### Produto escalar"
   ]
  },
  {
   "cell_type": "code",
   "execution_count": null,
   "metadata": {},
   "outputs": [],
   "source": [
    "A = [1 2 3 4;\n",
    "     5 6 7 8];\n",
    "\n",
    "v = [1, 2, 3, 4];"
   ]
  },
  {
   "cell_type": "code",
   "execution_count": null,
   "metadata": {},
   "outputs": [],
   "source": [
    "m, n = size(A)\n",
    "\n",
    "# Cria o vetor u\n",
    "u = Vector{Float64}(undef, m)\n",
    "\n",
    "for i = 1:m\n",
    "    \n",
    "    # Aqui calculamos o produto escalar\n",
    "    u[i] = 0.0\n",
    "    for j = 1:n\n",
    "        u[i] = u[i] + A[i, j] * v[j]\n",
    "    end\n",
    "    \n",
    "end\n",
    "\n",
    "println(u)"
   ]
  },
  {
   "cell_type": "markdown",
   "metadata": {},
   "source": [
    "### Combinação linear"
   ]
  },
  {
   "cell_type": "code",
   "execution_count": null,
   "metadata": {},
   "outputs": [],
   "source": [
    "A = [1 2 3 4;\n",
    "     5 6 7 8];\n",
    "\n",
    "v = [1, 2, 3, 4];"
   ]
  },
  {
   "cell_type": "code",
   "execution_count": null,
   "metadata": {},
   "outputs": [],
   "source": [
    "m, n = size(A)\n",
    "\n",
    "# Cria o vetor u de zeros\n",
    "u = Vector{Float64}(undef, m)\n",
    "\n",
    "for i = 1:m\n",
    "    u[i] = 0.0\n",
    "end\n",
    "\n",
    "# ou\n",
    "# u = zeros(m)\n",
    "\n",
    "# Realiza a multiplicacao\n",
    "for j = 1:n\n",
    "    \n",
    "    for i = 1:m\n",
    "        u[i] = u[i] + A[i, j] * v[j]\n",
    "    end\n",
    "    \n",
    "end\n",
    "\n",
    "println(u)"
   ]
  },
  {
   "cell_type": "markdown",
   "metadata": {},
   "source": [
    "### Observações\n",
    "\n",
    "Observe que a única diferença entre os dois códigos é a troca do laço em $i$ pelo laço em $j$, e a consequente necessidade de criar um vetor inteiro de zeros no início.\n",
    "\n",
    "Dizemos que a versão de produto escalar é **orientada a linhas** e a versão de combinação linear é **orientada a colunas**. Vamos comparar os tempos de multiplicação para cada código."
   ]
  },
  {
   "cell_type": "code",
   "execution_count": null,
   "metadata": {},
   "outputs": [],
   "source": [
    "\"\"\"\n",
    "Multiplicacao de matriz e vetor, versao linha.\n",
    "\"\"\"\n",
    "function matriz_vetor_escalar(A, v)\n",
    "   \n",
    "    m, n = size(A)\n",
    "\n",
    "    # Cria o vetor u\n",
    "    u = Vector{Float64}(undef, m)\n",
    "\n",
    "    for i = 1:m\n",
    "\n",
    "        # Aqui calculamos o produto escalar\n",
    "        u[i] = 0.0\n",
    "        for j = 1:n\n",
    "            u[i] = u[i] + A[i, j] * v[j]\n",
    "        end\n",
    "\n",
    "    end\n",
    "    \n",
    "    return u\n",
    "    \n",
    "end\n",
    "\n",
    "\"\"\"\n",
    "Multiplicacao de matriz e vetor, versao coluna.\n",
    "\"\"\"\n",
    "function matriz_vetor_combinacao(A, v)\n",
    "\n",
    "    m, n = size(A)\n",
    "\n",
    "    # Cria o vetor u de zeros\n",
    "    u = zeros(m)\n",
    "    \n",
    "    # Realiza a multiplicacao\n",
    "    for j = 1:n\n",
    "\n",
    "        for i = 1:m\n",
    "            u[i] = u[i] + A[i, j] * v[j]\n",
    "        end\n",
    "\n",
    "    end\n",
    "    \n",
    "    return u\n",
    "    \n",
    "end"
   ]
  },
  {
   "cell_type": "code",
   "execution_count": null,
   "metadata": {},
   "outputs": [],
   "source": [
    "A = rand(10, 10)\n",
    "v = rand(10)\n",
    "\n",
    "println(@elapsed(matriz_vetor_escalar(A, v)))\n",
    "\n",
    "println(@elapsed(matriz_vetor_combinacao(A, v)))"
   ]
  },
  {
   "cell_type": "code",
   "execution_count": null,
   "metadata": {},
   "outputs": [],
   "source": [
    "n = 1000\n",
    "\n",
    "A = rand(n, n)\n",
    "v = rand(n)\n",
    "\n",
    "println(\"Tempo orientacao a linhas (n = $(n)): \", @elapsed(matriz_vetor_escalar(A, v)))\n",
    "println(\"Tempo orientacao a colunas (n = $(n)): \", @elapsed(matriz_vetor_combinacao(A, v)))"
   ]
  },
  {
   "cell_type": "code",
   "execution_count": null,
   "metadata": {},
   "outputs": [],
   "source": []
  },
  {
   "cell_type": "markdown",
   "metadata": {},
   "source": [
    "## Matrix x matriz\n",
    "\n",
    "  - [Produto escalar](#Interpretação-1:-produto-escalar)\n",
    "  - [Combinação linear](#Interpretação-2:-por-linha-ou-colunas)\n",
    "  - Soma de matrizes"
   ]
  },
  {
   "cell_type": "markdown",
   "metadata": {},
   "source": [
    "### Interpretação 1: produto escalar\n",
    "\n",
    "Forma mais tradicional. Basta observarmos que se $C = A \\cdot B$, então\n",
    "$$\n",
    "c_{i, j} = \\sum \\limits_{k = 1}^p a_{i, k} b_{k, j} = A_i \\odot B^j\n",
    "$$"
   ]
  },
  {
   "cell_type": "code",
   "execution_count": null,
   "metadata": {},
   "outputs": [],
   "source": [
    "A = [1 2 3 4;\n",
    "     5 6 7 8];\n",
    "\n",
    "B = [1 2 1;\n",
    "     3 4 1;\n",
    "     5 6 1;\n",
    "     7 8 1];"
   ]
  },
  {
   "cell_type": "code",
   "execution_count": null,
   "metadata": {},
   "outputs": [],
   "source": [
    "# Comandos para obter as dimensoes das matrizes\n",
    "mA, nA = size(A)\n",
    "mB, nB = size(B)\n",
    "\n",
    "println(\"Dimensao A: $(mA) x $(nA).\")\n",
    "println(\"Dimensao B: $(mB) x $(nB).\")\n",
    "\n",
    "m = mA\n",
    "p = nA # ou mB\n",
    "n = nB\n",
    "\n",
    "# Escolhe i e j\n",
    "i = 2\n",
    "j = 3\n",
    "\n",
    "# Calcula o somatorio\n",
    "cij = 0\n",
    "\n",
    "for k = 1:p\n",
    "    cij = cij + A[i, k] * B[k, j]\n",
    "end\n",
    "\n",
    "println(\"O elemento C_$(i),$(j) = $(cij).\")"
   ]
  },
  {
   "cell_type": "markdown",
   "metadata": {},
   "source": [
    "Experimente:\n",
    "\n",
    "  - Modificar os valores das variáveis `i` e `j`\n",
    "  - Colocar valores de `i` e `j` maiores que a dimensão das matrizes\n",
    "  - Definir `p` como `mB` ao invés de `nA`"
   ]
  },
  {
   "cell_type": "markdown",
   "metadata": {},
   "source": [
    "Os elementos $c_{i, j}$ têm que ser calculados para todo $i$ e $j$, e para isso usamos 2 laços do tipo `for`"
   ]
  },
  {
   "cell_type": "code",
   "execution_count": null,
   "metadata": {},
   "outputs": [],
   "source": [
    "C = Array(Float64, m, n)\n",
    "\n",
    "for i = 1:m\n",
    "    for j = 1:n\n",
    "        \n",
    "        # Aqui copiamos o codigo de cij\n",
    "        # Calcula o somatorio\n",
    "        C[i, j] = 0\n",
    "\n",
    "        for k = 1:p\n",
    "            C[i, j] = C[i, j] + A[i, k] * B[k, j]\n",
    "        end\n",
    "        \n",
    "    end\n",
    "end\n",
    "\n",
    "display(C)"
   ]
  },
  {
   "cell_type": "markdown",
   "metadata": {},
   "source": [
    "Experimente trocar as ordem dos laços `for` nas linhas 3 e 4. A única diferença é na forma como calculamos os elementos de $C$.\n",
    "\n",
    "A função abaixo implementa a multiplicação usando essa ideia."
   ]
  },
  {
   "cell_type": "code",
   "execution_count": null,
   "metadata": {},
   "outputs": [],
   "source": [
    "function multiplica_mat_1(A, B)\n",
    "    \n",
    "    mA, nA = size(A)\n",
    "    mB, nB = size(B)\n",
    "\n",
    "    if nA != mB\n",
    "        \n",
    "        println(\"Erro. Dimensoes incompatíveis.\")\n",
    "        \n",
    "        return nothing\n",
    "        \n",
    "    end\n",
    "    \n",
    "    m = mA\n",
    "    p = nA # ou mB\n",
    "    n = nB\n",
    "    \n",
    "    C = Array(Float64, m, n)\n",
    "\n",
    "    for i = 1:m\n",
    "        for j = 1:n\n",
    "\n",
    "            # Aqui copiamos o codigo de cij\n",
    "            # Calcula o somatorio\n",
    "            C[i, j] = 0\n",
    "\n",
    "            for k = 1:p\n",
    "                C[i, j] = C[i, j] + A[i, k] * B[k, j]\n",
    "            end\n",
    "\n",
    "        end\n",
    "    end\n",
    "    \n",
    "    return C\n",
    "    \n",
    "end"
   ]
  },
  {
   "cell_type": "code",
   "execution_count": null,
   "metadata": {},
   "outputs": [],
   "source": [
    "multiplica_mat_1(A, B)"
   ]
  },
  {
   "cell_type": "markdown",
   "metadata": {},
   "source": [
    "Experimentos com matrizes aleatórias grandes."
   ]
  },
  {
   "cell_type": "code",
   "execution_count": null,
   "metadata": {},
   "outputs": [],
   "source": [
    "A1 = rand(100, 100)\n",
    "B1 = rand(100, 100)\n",
    "\n",
    "println(\"Tempo para  100: \", @elapsed(multiplica_mat_1(A1, B1)))\n",
    "\n",
    "A1 = rand(200, 200)\n",
    "B1 = rand(200, 200)\n",
    "\n",
    "println(\"Tempo para  200: \", @elapsed(multiplica_mat_1(A1, B1)))\n",
    "\n",
    "A1 = rand(400, 400)\n",
    "B1 = rand(400, 400)\n",
    "\n",
    "println(\"Tempo para  400: \", @elapsed(multiplica_mat_1(A1, B1)))\n",
    "\n",
    "A1 = rand(800, 800)\n",
    "B1 = rand(800, 800)\n",
    "\n",
    "println(\"Tempo para  800: \", @elapsed(multiplica_mat_1(A1, B1)))\n",
    "\n",
    "A1 = rand(1000, 1000)\n",
    "B1 = rand(1000, 1000)\n",
    "\n",
    "println(\"Tempo para 1000: \", @elapsed(multiplica_mat_1(A1, B1)))"
   ]
  },
  {
   "cell_type": "markdown",
   "metadata": {},
   "source": [
    "Observe que quando **dobramos** a dimensão das matrizes, o tempo é **multiplicado por 8**. Dizemos que o custo computacional da multiplicação tradicional é $O(n^3)$, onde $n$ é a dimensão da matriz."
   ]
  },
  {
   "cell_type": "markdown",
   "metadata": {},
   "source": [
    "## Interpretação 2: por linha ou colunas\n",
    "\n",
    "A segunda interpretação ocorre quando olhamos a forma de uma coluna ou linha de $C$: $C_i$ ou $C^j$.\n",
    "$$\n",
    "C = A \\cdot B = \n",
    "\\begin{bmatrix}\n",
    "A \\cdot B^1 & \\cdots & A \\cdot B^n\n",
    "\\end{bmatrix}\n",
    "=\n",
    "\\begin{bmatrix}\n",
    "A_1 \\cdot B\\\\ \\vdots\\\\ A_m \\cdot B\n",
    "\\end{bmatrix}\n",
    "$$\n",
    "onde $A \\cdot B^j$ representa o produto entre a matriz $A$ e a coluna $j$ de $B$, e $A_i \\cdot B$ é o produto entre a linha $i$ de $A$ e a matriz $B$ inteira."
   ]
  },
  {
   "cell_type": "markdown",
   "metadata": {},
   "source": [
    "### Calculando $C^j$"
   ]
  },
  {
   "cell_type": "code",
   "execution_count": null,
   "metadata": {},
   "outputs": [],
   "source": [
    "A = [1 2 3 4;\n",
    "     5 6 7 8];\n",
    "\n",
    "B = [1 2 1;\n",
    "     3 4 1;\n",
    "     5 6 1;\n",
    "     7 8 1];"
   ]
  },
  {
   "cell_type": "code",
   "execution_count": null,
   "metadata": {},
   "outputs": [],
   "source": [
    "# Comandos para obter as dimensoes das matrizes\n",
    "mA, nA = size(A)\n",
    "mB, nB = size(B)\n",
    "\n",
    "println(\"Dimensao A: $(mA) x $(nA).\")\n",
    "println(\"Dimensao B: $(mB) x $(nB).\")\n",
    "\n",
    "m = mA\n",
    "p = nA # ou mB\n",
    "n = nB\n",
    "\n",
    "# Construindo a coluna j.\n",
    "# Precisa colocar zeros para somar.\n",
    "cj = zeros(Float64, m)\n",
    "\n",
    "j = 3\n",
    "\n",
    "for i = 1:m\n",
    "    \n",
    "    for k = 1:p\n",
    "    \n",
    "        cj[i] = cj[i] + A[i, k] * B[k, j]\n",
    "        \n",
    "    end\n",
    "    \n",
    "end\n",
    "\n",
    "println(\"C^$(j) = \", cj)"
   ]
  },
  {
   "cell_type": "markdown",
   "metadata": {},
   "source": [
    "As duas versões desse código são apresentadas abaixo."
   ]
  },
  {
   "cell_type": "code",
   "execution_count": null,
   "metadata": {},
   "outputs": [],
   "source": [
    "\"\"\"\n",
    "Esta funcao multiplica duas matrizes, construindo a matriz produto por **colunas**.\n",
    "\"\"\"\n",
    "function multiplica_mat_2_col_ik(A, B)\n",
    "    \n",
    "    mA, nA = size(A)\n",
    "    mB, nB = size(B)\n",
    "\n",
    "    if nA != mB\n",
    "        \n",
    "        println(\"Erro. Dimensoes incompatíveis.\")\n",
    "        \n",
    "        return nothing\n",
    "        \n",
    "    end\n",
    "    \n",
    "    m = mA\n",
    "    p = nA # ou mB\n",
    "    n = nB\n",
    "    \n",
    "    C = zeros(Float64, m, n)\n",
    "    \n",
    "    for j = 1:n\n",
    "        \n",
    "        for i = 1:m\n",
    "\n",
    "            for k = 1:p\n",
    "                \n",
    "                # Atencao aqui! Temos que trocar cj por C[:, j]!\n",
    "                # Ou seja, a j-esima coluna de C\n",
    "                C[i, j] = C[i, j] + A[i, k] * B[k, j]\n",
    "\n",
    "            end\n",
    "\n",
    "        end\n",
    "        \n",
    "    end\n",
    "    \n",
    "    return C\n",
    "    \n",
    "end\n",
    "\n",
    "\"\"\"\n",
    "Esta funcao multiplica duas matrizes, construindo a matriz produto por **colunas**.\n",
    "\n",
    "Nesta versao, os lacos associados com `i` e `k` foram trocados de ordem: primeiro `k` e\n",
    "depois `i`.\n",
    "\"\"\"\n",
    "function multiplica_mat_2_col_ki(A, B)\n",
    "    \n",
    "    mA, nA = size(A)\n",
    "    mB, nB = size(B)\n",
    "\n",
    "    if nA != mB\n",
    "        \n",
    "        println(\"Erro. Dimensoes incompatíveis.\")\n",
    "        \n",
    "        return nothing\n",
    "        \n",
    "    end\n",
    "    \n",
    "    m = mA\n",
    "    p = nA # ou mB\n",
    "    n = nB\n",
    "    \n",
    "    C = zeros(Float64, m, n)\n",
    "    \n",
    "    for j = 1:n\n",
    "        \n",
    "        for k = 1:p\n",
    "\n",
    "            for i = 1:m\n",
    "                \n",
    "                # Atencao aqui! Temos que trocar cj por C[:, j]!\n",
    "                # Ou seja, a j-esima coluna de C\n",
    "                C[i, j] = C[i, j] + A[i, k] * B[k, j]\n",
    "\n",
    "            end\n",
    "\n",
    "        end\n",
    "        \n",
    "    end\n",
    "    \n",
    "    return C\n",
    "    \n",
    "end"
   ]
  },
  {
   "cell_type": "code",
   "execution_count": null,
   "metadata": {
    "scrolled": true
   },
   "outputs": [],
   "source": [
    "multiplica_mat_2_col_ik(A, B)"
   ]
  },
  {
   "cell_type": "code",
   "execution_count": null,
   "metadata": {
    "scrolled": true
   },
   "outputs": [],
   "source": [
    "multiplica_mat_2_col_ki(A, B)"
   ]
  },
  {
   "cell_type": "code",
   "execution_count": null,
   "metadata": {},
   "outputs": [],
   "source": [
    "A1 = rand(100, 100)\n",
    "B1 = rand(100, 100)\n",
    "\n",
    "println(\"Tempo para  100: \", @elapsed(multiplica_mat_2_col_ik(A1, B1)))\n",
    "\n",
    "A1 = rand(200, 200)\n",
    "B1 = rand(200, 200)\n",
    "\n",
    "println(\"Tempo para  200: \", @elapsed(multiplica_mat_2_col_ik(A1, B1)))\n",
    "\n",
    "A1 = rand(400, 400)\n",
    "B1 = rand(400, 400)\n",
    "\n",
    "println(\"Tempo para  400: \", @elapsed(multiplica_mat_2_col_ik(A1, B1)))\n",
    "\n",
    "A1 = rand(800, 800)\n",
    "B1 = rand(800, 800)\n",
    "\n",
    "println(\"Tempo para  800: \", @elapsed(multiplica_mat_2_col_ik(A1, B1)))\n",
    "\n",
    "A1 = rand(1000, 1000)\n",
    "B1 = rand(1000, 1000)\n",
    "\n",
    "println(\"Tempo para 1000: \", @elapsed(multiplica_mat_2_col_ik(A1, B1)))"
   ]
  },
  {
   "cell_type": "markdown",
   "metadata": {},
   "source": [
    "Experimentos para quando trocamos os laços `for` de ordem"
   ]
  },
  {
   "cell_type": "code",
   "execution_count": null,
   "metadata": {},
   "outputs": [],
   "source": [
    "A1 = rand(100, 100)\n",
    "B1 = rand(100, 100)\n",
    "\n",
    "println(\"Tempo para  100: \", @elapsed(multiplica_mat_2_col_ki(A1, B1)))\n",
    "\n",
    "A1 = rand(200, 200)\n",
    "B1 = rand(200, 200)\n",
    "\n",
    "println(\"Tempo para  200: \", @elapsed(multiplica_mat_2_col_ki(A1, B1)))\n",
    "\n",
    "A1 = rand(400, 400)\n",
    "B1 = rand(400, 400)\n",
    "\n",
    "println(\"Tempo para  400: \", @elapsed(multiplica_mat_2_col_ki(A1, B1)))\n",
    "\n",
    "A1 = rand(800, 800)\n",
    "B1 = rand(800, 800)\n",
    "\n",
    "println(\"Tempo para  800: \", @elapsed(multiplica_mat_2_col_ki(A1, B1)))\n",
    "\n",
    "A1 = rand(1000, 1000)\n",
    "B1 = rand(1000, 1000)\n",
    "\n",
    "println(\"Tempo para 1000: \", @elapsed(multiplica_mat_2_col_ki(A1, B1)))"
   ]
  },
  {
   "cell_type": "markdown",
   "metadata": {},
   "source": [
    "**Por que** a segunda função foi duas vezes mais rápida que a primeira?"
   ]
  },
  {
   "cell_type": "markdown",
   "metadata": {},
   "source": [
    "### Calculando $C_i$"
   ]
  },
  {
   "cell_type": "code",
   "execution_count": null,
   "metadata": {},
   "outputs": [],
   "source": [
    "A = [1 2 3 4;\n",
    "     5 6 7 8];\n",
    "\n",
    "B = [1 2 1;\n",
    "     3 4 1;\n",
    "     5 6 1;\n",
    "     7 8 1];"
   ]
  },
  {
   "cell_type": "code",
   "execution_count": null,
   "metadata": {},
   "outputs": [],
   "source": [
    "# Comandos para obter as dimensoes das matrizes\n",
    "mA, nA = size(A)\n",
    "mB, nB = size(B)\n",
    "\n",
    "println(\"Dimensao A: $(mA) x $(nA).\")\n",
    "println(\"Dimensao B: $(mB) x $(nB).\")\n",
    "\n",
    "m = mA\n",
    "p = nA # ou mB\n",
    "n = nB\n",
    "\n",
    "# Construindo a linha i.\n",
    "# Precisa colocar zeros para somar.\n",
    "ci = zeros(Float64, n)\n",
    "\n",
    "i = 2\n",
    "\n",
    "for j = 1:n\n",
    "    \n",
    "    for k = 1:p\n",
    "    \n",
    "        ci[j] = ci[j] + A[i, k] * B[k, j]\n",
    "        \n",
    "    end\n",
    "    \n",
    "end\n",
    "\n",
    "println(\"C_$(i) = \", ci)"
   ]
  },
  {
   "cell_type": "markdown",
   "metadata": {},
   "source": [
    "As duas versões desse código são apresentadas abaixo."
   ]
  },
  {
   "cell_type": "code",
   "execution_count": null,
   "metadata": {},
   "outputs": [],
   "source": [
    "function multiplica_mat_2_lin_jk(A, B)\n",
    "   \n",
    "    # Comandos para obter as dimensoes das matrizes\n",
    "    mA, nA = size(A)\n",
    "    mB, nB = size(B)\n",
    "\n",
    "    if nA != mB\n",
    "        \n",
    "        println(\"Erro. Dimensoes incompatíveis.\")\n",
    "        \n",
    "        return nothing\n",
    "        \n",
    "    end\n",
    "    \n",
    "    m = mA\n",
    "    p = nA # ou mB\n",
    "    n = nB\n",
    "\n",
    "    # Ja constroi C com zeros\n",
    "    C = zeros(Float64, m, n)    \n",
    "    \n",
    "    for i = 1:m\n",
    "\n",
    "        for j = 1:n\n",
    "\n",
    "            for k = 1:p\n",
    "\n",
    "                C[i, j] = C[i, j] + A[i, k] * B[k, j]\n",
    "\n",
    "            end\n",
    "\n",
    "        end\n",
    "        \n",
    "    end\n",
    "    \n",
    "    return C    \n",
    "    \n",
    "end\n",
    "\n",
    "function multiplica_mat_2_lin_kj(A, B)\n",
    "   \n",
    "    # Comandos para obter as dimensoes das matrizes\n",
    "    mA, nA = size(A)\n",
    "    mB, nB = size(B)\n",
    "\n",
    "    if nA != mB\n",
    "        \n",
    "        println(\"Erro. Dimensoes incompatíveis.\")\n",
    "        \n",
    "        return nothing\n",
    "        \n",
    "    end\n",
    "    \n",
    "    m = mA\n",
    "    p = nA # ou mB\n",
    "    n = nB\n",
    "\n",
    "    # Ja constroi C com zeros\n",
    "    C = zeros(Float64, m, n)    \n",
    "    \n",
    "    for i = 1:m\n",
    "\n",
    "        for k = 1:p\n",
    "\n",
    "            for j = 1:n\n",
    "\n",
    "                C[i, j] = C[i, j] + A[i, k] * B[k, j]\n",
    "\n",
    "            end\n",
    "\n",
    "        end\n",
    "        \n",
    "    end\n",
    "    \n",
    "    return C    \n",
    "    \n",
    "end"
   ]
  },
  {
   "cell_type": "code",
   "execution_count": null,
   "metadata": {
    "scrolled": true
   },
   "outputs": [],
   "source": [
    "multiplica_mat_2_lin_jk(A, B)"
   ]
  },
  {
   "cell_type": "code",
   "execution_count": null,
   "metadata": {
    "scrolled": true
   },
   "outputs": [],
   "source": [
    "multiplica_mat_2_lin_kj(A, B)"
   ]
  },
  {
   "cell_type": "code",
   "execution_count": null,
   "metadata": {},
   "outputs": [],
   "source": [
    "A1 = rand(100, 100)\n",
    "B1 = rand(100, 100)\n",
    "\n",
    "println(\"Tempo para  100: \", @elapsed(multiplica_mat_2_lin_jk(A1, B1)))\n",
    "\n",
    "A1 = rand(200, 200)\n",
    "B1 = rand(200, 200)\n",
    "\n",
    "println(\"Tempo para  200: \", @elapsed(multiplica_mat_2_lin_jk(A1, B1)))\n",
    "\n",
    "A1 = rand(400, 400)\n",
    "B1 = rand(400, 400)\n",
    "\n",
    "println(\"Tempo para  400: \", @elapsed(multiplica_mat_2_lin_jk(A1, B1)))\n",
    "\n",
    "A1 = rand(800, 800)\n",
    "B1 = rand(800, 800)\n",
    "\n",
    "println(\"Tempo para  800: \", @elapsed(multiplica_mat_2_lin_jk(A1, B1)))\n",
    "\n",
    "A1 = rand(1000, 1000)\n",
    "B1 = rand(1000, 1000)\n",
    "\n",
    "println(\"Tempo para 1000: \", @elapsed(multiplica_mat_2_lin_jk(A1, B1)))"
   ]
  },
  {
   "cell_type": "markdown",
   "metadata": {},
   "source": [
    "Experimentos para quando trocamos os laços `for` de ordem"
   ]
  },
  {
   "cell_type": "code",
   "execution_count": null,
   "metadata": {},
   "outputs": [],
   "source": [
    "A1 = rand(100, 100)\n",
    "B1 = rand(100, 100)\n",
    "\n",
    "println(\"Tempo para  100: \", @elapsed(multiplica_mat_2_lin_kj(A1, B1)))\n",
    "\n",
    "A1 = rand(200, 200)\n",
    "B1 = rand(200, 200)\n",
    "\n",
    "println(\"Tempo para  200: \", @elapsed(multiplica_mat_2_lin_kj(A1, B1)))\n",
    "\n",
    "A1 = rand(400, 400)\n",
    "B1 = rand(400, 400)\n",
    "\n",
    "println(\"Tempo para  400: \", @elapsed(multiplica_mat_2_lin_kj(A1, B1)))\n",
    "\n",
    "A1 = rand(800, 800)\n",
    "B1 = rand(800, 800)\n",
    "\n",
    "println(\"Tempo para  800: \", @elapsed(multiplica_mat_2_lin_kj(A1, B1)))\n",
    "\n",
    "A1 = rand(1000, 1000)\n",
    "B1 = rand(1000, 1000)\n",
    "\n",
    "println(\"Tempo para 1000: \", @elapsed(multiplica_mat_2_lin_kj(A1, B1)))"
   ]
  },
  {
   "cell_type": "markdown",
   "metadata": {},
   "source": [
    "## Interpretação 3 - soma de matrizes\n",
    "\n",
    "A terceira interpretação ocorre quando montamos $C$ aos poucos: por somas de $p$ matrizes de posto 1.\n",
    "$$\n",
    "C = A \\cdot B = A^1 B_1 + A^2 B_2 + \\cdots + A^p B_p\n",
    "$$\n",
    "onde $A^k B_k$ representa o produto entre um vetor coluna de $A$ e um vetor linha de $B$. O resultado desse produto é uma matriz $m \\times n$."
   ]
  },
  {
   "cell_type": "code",
   "execution_count": null,
   "metadata": {},
   "outputs": [],
   "source": [
    "A = [1 2 3 4;\n",
    "     5 6 7 8];\n",
    "\n",
    "B = [1 2 1;\n",
    "     3 4 1;\n",
    "     5 6 1;\n",
    "     7 8 1];"
   ]
  },
  {
   "cell_type": "code",
   "execution_count": null,
   "metadata": {},
   "outputs": [],
   "source": [
    "function multiplica_mat_3(A, B)\n",
    "\n",
    "    # Comandos para obter as dimensoes das matrizes\n",
    "    mA, nA = size(A)\n",
    "    mB, nB = size(B)\n",
    "\n",
    "    if nA != mB\n",
    "        \n",
    "        println(\"Erro. Dimensoes incompatíveis.\")\n",
    "        \n",
    "        return nothing\n",
    "        \n",
    "    end\n",
    "    \n",
    "    m = mA\n",
    "    p = nA # ou mB\n",
    "    n = nB\n",
    "\n",
    "    # Ja constroi C com zeros\n",
    "    C = zeros(Float64, m, n)        \n",
    "    \n",
    "    for k = 1:p\n",
    "        \n",
    "        for j = 1:n\n",
    "            \n",
    "            for i = 1:m\n",
    "                \n",
    "                C[i, j] = C[i, j] + A[i, k] * B[k, j]\n",
    "                \n",
    "            end\n",
    "            \n",
    "        end\n",
    "        \n",
    "    end\n",
    "    \n",
    "    return C\n",
    "    \n",
    "end"
   ]
  },
  {
   "cell_type": "code",
   "execution_count": null,
   "metadata": {},
   "outputs": [],
   "source": [
    "multiplica_mat_3(A, B)"
   ]
  },
  {
   "cell_type": "code",
   "execution_count": null,
   "metadata": {},
   "outputs": [],
   "source": [
    "A1 = rand(100, 100)\n",
    "B1 = rand(100, 100)\n",
    "\n",
    "println(\"Tempo para  100: \", @elapsed(multiplica_mat_3(A1, B1)))\n",
    "\n",
    "A1 = rand(200, 200)\n",
    "B1 = rand(200, 200)\n",
    "\n",
    "println(\"Tempo para  200: \", @elapsed(multiplica_mat_3(A1, B1)))\n",
    "\n",
    "A1 = rand(400, 400)\n",
    "B1 = rand(400, 400)\n",
    "\n",
    "println(\"Tempo para  400: \", @elapsed(multiplica_mat_3(A1, B1)))\n",
    "\n",
    "A1 = rand(800, 800)\n",
    "B1 = rand(800, 800)\n",
    "\n",
    "println(\"Tempo para  800: \", @elapsed(multiplica_mat_3(A1, B1)))\n",
    "\n",
    "A1 = rand(1000, 1000)\n",
    "B1 = rand(1000, 1000)\n",
    "\n",
    "println(\"Tempo para 1000: \", @elapsed(multiplica_mat_3(A1, B1)))"
   ]
  },
  {
   "cell_type": "markdown",
   "metadata": {},
   "source": [
    "## Usando funções já implementadas\n",
    "\n",
    "Apesar de todo nosso esforço, existem bibliotecas já prontas que são muito mais eficientes que as nossas implementações: a função `gemm`da bilbioteca BLAS e a operação `*` de Julia."
   ]
  },
  {
   "cell_type": "code",
   "execution_count": null,
   "metadata": {},
   "outputs": [],
   "source": [
    "using Base.LinAlg.BLAS\n",
    "\n",
    "A1 = rand(1000, 1000)\n",
    "B1 = rand(1000, 1000)\n",
    "println(\"Tempo da BLAS para 1000: \", @elapsed(gemm('N', 'N', 1.0, A1, B1)))\n",
    "\n",
    "A1 = rand(1000, 1000)\n",
    "B1 = rand(1000, 1000)\n",
    "println(\"Tempo de *    para 1000: \", @elapsed(A1 * B1))"
   ]
  }
 ],
 "metadata": {
  "kernelspec": {
   "display_name": "Julia 1.0.4",
   "language": "julia",
   "name": "julia-1.0"
  },
  "language_info": {
   "file_extension": ".jl",
   "mimetype": "application/julia",
   "name": "julia",
   "version": "1.0.4"
  }
 },
 "nbformat": 4,
 "nbformat_minor": 2
}
