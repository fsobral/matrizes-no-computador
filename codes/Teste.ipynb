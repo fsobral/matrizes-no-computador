{
 "cells": [
  {
   "cell_type": "code",
   "execution_count": 1,
   "metadata": {},
   "outputs": [],
   "source": [
    "M = rand(10, 10);\n",
    "writedlm(\"/tmp/m.txt\", M);"
   ]
  },
  {
   "cell_type": "code",
   "execution_count": 3,
   "metadata": {},
   "outputs": [
    {
     "data": {
      "text/plain": [
       "IOStream(<file /tmp/m.txt>)"
      ]
     },
     "execution_count": 3,
     "metadata": {},
     "output_type": "execute_result"
    }
   ],
   "source": [
    "fp = open(\"/tmp/m.txt\")"
   ]
  },
  {
   "cell_type": "code",
   "execution_count": 9,
   "metadata": {},
   "outputs": [
    {
     "data": {
      "text/plain": [
       "17"
      ]
     },
     "execution_count": 9,
     "metadata": {},
     "output_type": "execute_result"
    }
   ],
   "source": [
    "\n",
    "\n",
    "length(l)"
   ]
  },
  {
   "cell_type": "code",
   "execution_count": 16,
   "metadata": {},
   "outputs": [
    {
     "name": "stdout",
     "output_type": "stream",
     "text": [
      "Float64[]\n"
     ]
    }
   ],
   "source": [
    "v = Vector{Float64}(10)\n",
    "\n",
    "n = 0\n",
    "\n",
    "l = \"1.0 -10.5 9.76     10\"\n",
    "\n",
    "l = \"                     \"\n",
    "\n",
    "ini = 1\n",
    "\n",
    "while ini <= length(l)\n",
    "    \n",
    "    fim = ini\n",
    "    \n",
    "    while fim < length(l) && l[fim] != ' '\n",
    "        \n",
    "        fim = fim + 1\n",
    "        \n",
    "    end\n",
    "    \n",
    "    if fim - ini > 0\n",
    "        \n",
    "        n = n + 1\n",
    "        \n",
    "        v[n] = parse(Float64, l[ini:fim])\n",
    "        \n",
    "    end\n",
    "    \n",
    "    ini = fim + 1\n",
    "\n",
    "end\n",
    "\n",
    "println(v[1:n])"
   ]
  },
  {
   "cell_type": "code",
   "execution_count": 1,
   "metadata": {},
   "outputs": [
    {
     "name": "stdout",
     "output_type": "stream",
     "text": [
      "1,1,2,3,5,8,13,21,34,55,89,144,233,377,610,987,1597,2584,4181,6765,10946,17711,28657,46368,75025,121393,196418,317811,514229,832040,1346269,2178309,3524578,5702887,9227465,14930352,24157817,39088169,63245986,102334155,165580141,267914296,433494437,701408733,1134903170,1836311903,2971215073,4807526976,7778742049,12586269025,20365011074,32951280099,"
     ]
    }
   ],
   "source": [
    "f1 = 1\n",
    "f2 = 1\n",
    "\n",
    "print(\"$(f1),$(f2),\")\n",
    "\n",
    "for i = 1:50\n",
    "    \n",
    "    t  = f1\n",
    "    f1 = f2\n",
    "    f2 = f2 + t\n",
    "    \n",
    "    print(\"$(f2),\")\n",
    "    \n",
    "end"
   ]
  },
  {
   "cell_type": "code",
   "execution_count": 5,
   "metadata": {},
   "outputs": [
    {
     "ename": "LoadError",
     "evalue": "syntax: incomplete: \"for\" at In[5]:2 requires end",
     "output_type": "error",
     "traceback": [
      "syntax: incomplete: \"for\" at In[5]:2 requires end",
      "",
      " in include_string(::String, ::String) at ./loading.jl:441"
     ]
    }
   ],
   "source": [
    "minha_var = 1\n",
    "for i = 1:10\n",
    "    minha_var = minha_var + 1\n",
    "end"
   ]
  },
  {
   "cell_type": "code",
   "execution_count": null,
   "metadata": {},
   "outputs": [],
   "source": []
  }
 ],
 "metadata": {
  "kernelspec": {
   "display_name": "Julia 0.5.2",
   "language": "julia",
   "name": "julia-0.5"
  },
  "language_info": {
   "file_extension": ".jl",
   "mimetype": "application/julia",
   "name": "julia",
   "version": "0.5.2"
  }
 },
 "nbformat": 4,
 "nbformat_minor": 2
}
