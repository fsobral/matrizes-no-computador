{
 "cells": [
  {
   "cell_type": "markdown",
   "metadata": {},
   "source": [
    "# XXIX SEMAT - DMA - UEM\n",
    "\n",
    "## Multiplicando matrizes no computador (em Julia)\n",
    "\n",
    "**Ministrante**: Francisco N. C. Sobral (DMA-UEM)  \n",
    "**Data**: 24 de outubro de 2018\n",
    "\n",
    "## Instruções\n",
    "\n",
    "  1. Realize o teste, clicando [neste link](https://docs.google.com/forms/d/e/1FAIpQLSdsVjiWk9czGtvvwK8pDILRApJn8UAZ8SR-YJ-HSJse_4lg5w/viewform?usp=sf_link)\n",
    "  2. Caso se sinta preparado para o curso, [baixe os arquivos compactados] no seu computador.\n",
    "  \n",
    "## Índice\n",
    "\n",
    "  - [Parte 1](parte1.ipynb)\n",
    "    - Breve introdução a vetores e matrizes em Julia\n",
    "    - Laços\n",
    "    - Matrizes, vetores e a memória do computador\n",
    "  - [Parte 2](parte2.ipynb)\n",
    "    - Multiplicação de matriz e vetor\n",
    "    - Multiplicação de matriz e matriz\n",
    "  - [Parte 3](parte3.ipynb)\n",
    "    - Matrizes esparsas\n",
    "    - Desafio"
   ]
  }
 ],
 "metadata": {
  "kernelspec": {
   "display_name": "Julia 0.5.2",
   "language": "julia",
   "name": "julia-0.5"
  },
  "language_info": {
   "file_extension": ".jl",
   "mimetype": "application/julia",
   "name": "julia",
   "version": "0.5.2"
  }
 },
 "nbformat": 4,
 "nbformat_minor": 2
}
