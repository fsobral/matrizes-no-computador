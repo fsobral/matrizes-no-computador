{
 "cells": [
  {
   "cell_type": "markdown",
   "metadata": {},
   "source": [
    "# Matrizes e vetores em Julia"
   ]
  },
  {
   "cell_type": "markdown",
   "metadata": {},
   "source": [
    "## Criando e acessando"
   ]
  },
  {
   "cell_type": "markdown",
   "metadata": {},
   "source": [
    "Para criar vetores para números reais, o comando genérico é\n",
    "\n",
    "    Vector{Float64}(tamanho)\n",
    "    \n",
    "porém, existem outros comandos para criar vetores especiais: `ones`, `zeros` e `rand`.\n",
    "\n",
    "Ao criar um vetor com o comando `Vector` recebemos apenas um espaço na memória, cheio de sujeira."
   ]
  },
  {
   "cell_type": "code",
   "execution_count": 2,
   "metadata": {},
   "outputs": [
    {
     "data": {
      "text/plain": [
       "5-element Array{Float64,1}:\n",
       " 6.93848e-310\n",
       " 6.93848e-310\n",
       " 6.93848e-310\n",
       " 6.93848e-310\n",
       " 6.93848e-310"
      ]
     },
     "execution_count": 2,
     "metadata": {},
     "output_type": "execute_result"
    }
   ],
   "source": [
    "v = Vector{Float64}(5)"
   ]
  },
  {
   "cell_type": "code",
   "execution_count": 3,
   "metadata": {},
   "outputs": [
    {
     "data": {
      "text/plain": [
       "Ptr{Float64} @0x00007fb9e7be0450"
      ]
     },
     "execution_count": 3,
     "metadata": {},
     "output_type": "execute_result"
    }
   ],
   "source": [
    "pointer(v) # Esse e' o endereco do vetor"
   ]
  },
  {
   "cell_type": "code",
   "execution_count": 4,
   "metadata": {},
   "outputs": [
    {
     "data": {
      "text/plain": [
       "40"
      ]
     },
     "execution_count": 4,
     "metadata": {},
     "output_type": "execute_result"
    }
   ],
   "source": [
    "sizeof(v) # Tamanho em bytes ocupado pelo vetor"
   ]
  },
  {
   "cell_type": "markdown",
   "metadata": {},
   "source": [
    "O comando abaixo cria um vetor de zeros. Como estamos guardando em `v` novamente, perdemos o endereço criado acima."
   ]
  },
  {
   "cell_type": "code",
   "execution_count": 5,
   "metadata": {},
   "outputs": [
    {
     "data": {
      "text/plain": [
       "5-element Array{Float64,1}:\n",
       " 0.0\n",
       " 0.0\n",
       " 0.0\n",
       " 0.0\n",
       " 0.0"
      ]
     },
     "execution_count": 5,
     "metadata": {},
     "output_type": "execute_result"
    }
   ],
   "source": [
    "v = zeros(5)"
   ]
  },
  {
   "cell_type": "code",
   "execution_count": 6,
   "metadata": {},
   "outputs": [
    {
     "data": {
      "text/plain": [
       "Ptr{Float64} @0x00007f90e1d1eb50"
      ]
     },
     "execution_count": 6,
     "metadata": {},
     "output_type": "execute_result"
    }
   ],
   "source": [
    "pointer(v)"
   ]
  },
  {
   "cell_type": "code",
   "execution_count": 7,
   "metadata": {},
   "outputs": [
    {
     "data": {
      "text/plain": [
       "5-element Array{Float64,1}:\n",
       " 1.0\n",
       " 1.0\n",
       " 1.0\n",
       " 1.0\n",
       " 1.0"
      ]
     },
     "execution_count": 7,
     "metadata": {},
     "output_type": "execute_result"
    }
   ],
   "source": [
    "ones(5)"
   ]
  },
  {
   "cell_type": "code",
   "execution_count": 8,
   "metadata": {},
   "outputs": [
    {
     "data": {
      "text/plain": [
       "5-element Array{Float64,1}:\n",
       " 0.780046\n",
       " 0.822236\n",
       " 0.73462 \n",
       " 0.454318\n",
       " 0.369563"
      ]
     },
     "execution_count": 8,
     "metadata": {},
     "output_type": "execute_result"
    }
   ],
   "source": [
    "rand(5)"
   ]
  },
  {
   "cell_type": "markdown",
   "metadata": {},
   "source": [
    "Para trabalhar com vetores (e matrizes também) utilizamos índices dentro de colchetes. A seguir criamos um vetor de zeros, colocamos o valor 1 na terceira posição e guardamos na quinta posição o resultado da soma de seus valores na primeira e terceira posições."
   ]
  },
  {
   "cell_type": "code",
   "execution_count": 9,
   "metadata": {},
   "outputs": [
    {
     "name": "stdout",
     "output_type": "stream",
     "text": [
      "[0.0,0.0,1.0,0.0,1.0,0.0,0.0]\n"
     ]
    }
   ],
   "source": [
    "v = zeros(7)\n",
    "\n",
    "# Armazena o valor 1 na posicao 3\n",
    "v[3] = 1.0\n",
    "\n",
    "# Armazena na posicao 5 o resultado da soma dos valores contidos nas posicoes 1 e 3\n",
    "v[5] = v[1] + v[3]\n",
    "\n",
    "println(v)"
   ]
  },
  {
   "cell_type": "markdown",
   "metadata": {},
   "source": [
    "Para criar matrizes de números reais, o comando\n",
    "\n",
    "    Array(Float64, m, n)\n",
    "    \n",
    "reserva um espaço para uma matriz com $m$ linhas e $n$ colunas e devolve o seu endereço na memória. Dentro dessa matriz não sabemos o que tem.\n",
    "\n",
    "De forma análoga, temos os comandos `zeros`, `ones` e `rand` para matrizes, que criam e colocam valores na matriz criada."
   ]
  },
  {
   "cell_type": "code",
   "execution_count": 19,
   "metadata": {},
   "outputs": [
    {
     "data": {
      "text/plain": [
       "5×3 Array{Float64,2}:\n",
       " 0.0  0.0  0.0\n",
       " 0.0  0.0  0.0\n",
       " 0.0  0.0  0.0\n",
       " 0.0  0.0  0.0\n",
       " 0.0  0.0  0.0"
      ]
     },
     "execution_count": 19,
     "metadata": {},
     "output_type": "execute_result"
    }
   ],
   "source": [
    "M = Array(Float64, 5, 3) # Pode ter qualquer coisa nas posicoes da matriz criada dessa forma"
   ]
  },
  {
   "cell_type": "code",
   "execution_count": 20,
   "metadata": {},
   "outputs": [
    {
     "data": {
      "text/plain": [
       "Ptr{Float64} @0x00007fb9eb0ae270"
      ]
     },
     "execution_count": 20,
     "metadata": {},
     "output_type": "execute_result"
    }
   ],
   "source": [
    "pointer(M)"
   ]
  },
  {
   "cell_type": "code",
   "execution_count": 21,
   "metadata": {},
   "outputs": [
    {
     "data": {
      "text/plain": [
       "120"
      ]
     },
     "execution_count": 21,
     "metadata": {},
     "output_type": "execute_result"
    }
   ],
   "source": [
    "sizeof(M)"
   ]
  },
  {
   "cell_type": "code",
   "execution_count": 6,
   "metadata": {},
   "outputs": [
    {
     "data": {
      "text/plain": [
       "5×3 Array{Float64,2}:\n",
       " 0.0  0.0  0.0\n",
       " 0.0  0.0  0.0\n",
       " 0.0  0.0  0.0\n",
       " 0.0  0.0  0.0\n",
       " 0.0  0.0  0.0"
      ]
     },
     "execution_count": 6,
     "metadata": {},
     "output_type": "execute_result"
    }
   ],
   "source": [
    "M = zeros(5, 3)"
   ]
  },
  {
   "cell_type": "code",
   "execution_count": 7,
   "metadata": {},
   "outputs": [
    {
     "data": {
      "text/plain": [
       "5×3 Array{Float64,2}:\n",
       " 1.0  1.0  1.0\n",
       " 1.0  1.0  1.0\n",
       " 1.0  1.0  1.0\n",
       " 1.0  1.0  1.0\n",
       " 1.0  1.0  1.0"
      ]
     },
     "execution_count": 7,
     "metadata": {},
     "output_type": "execute_result"
    }
   ],
   "source": [
    "M = ones(5, 3)"
   ]
  },
  {
   "cell_type": "code",
   "execution_count": 8,
   "metadata": {},
   "outputs": [
    {
     "data": {
      "text/plain": [
       "5×3 Array{Float64,2}:\n",
       " 0.104878    0.00135856  0.182159 \n",
       " 0.161347    0.194412    0.0372815\n",
       " 0.00775358  0.146777    0.195983 \n",
       " 0.945862    0.0570584   0.745698 \n",
       " 0.62287     0.587827    0.93779  "
      ]
     },
     "execution_count": 8,
     "metadata": {},
     "output_type": "execute_result"
    }
   ],
   "source": [
    "M = rand(5, 3)"
   ]
  },
  {
   "cell_type": "markdown",
   "metadata": {},
   "source": [
    "A posição $(i, j)$ de uma matriz $M$ é acessada também utilizando colchetes, mas agora com duas dimensões, separadas por vírgula."
   ]
  },
  {
   "cell_type": "code",
   "execution_count": 9,
   "metadata": {},
   "outputs": [
    {
     "name": "stdout",
     "output_type": "stream",
     "text": [
      "O valor da soma e' 12.0.\n"
     ]
    }
   ],
   "source": [
    "# Cria uma matriz de 1s\n",
    "M = ones(2, 7)\n",
    "\n",
    "# Coloca os valor 10 na posição (1,5), substituindo o valor existente\n",
    "M[1, 5] = 10.0\n",
    "\n",
    "# Imprime o resultado da soma dos elementos (1,5), (2,1) e (2,7)\n",
    "soma = M[1, 5] + M[2, 1] + M[2, 7]\n",
    "\n",
    "println(\"O valor da soma e' $(soma).\")"
   ]
  },
  {
   "cell_type": "markdown",
   "metadata": {},
   "source": [
    "Colunas e linhas de uma matriz podem ser acessadas usando `:`, que significa **todas**. Por exemplo,\n",
    "\n",
    "    M[:, 2]\n",
    "    \n",
    "seleciona **todas as linhas** da coluna 2 de $M$. Por outro lado\n",
    "\n",
    "    M[2, :]\n",
    "    \n",
    "seleciona **todas as colunas** da linha 2 de $M$.\n",
    "\n",
    "Nos comandos abaixo, selecionamos $M^2$ e $M_2$."
   ]
  },
  {
   "cell_type": "code",
   "execution_count": 16,
   "metadata": {},
   "outputs": [
    {
     "data": {
      "text/plain": [
       "2×4 Array{Float64,2}:\n",
       " 0.661572  0.162355  0.227034  0.420001\n",
       " 0.816956  0.378835  0.492678  0.820599"
      ]
     },
     "metadata": {},
     "output_type": "display_data"
    },
    {
     "name": "stdout",
     "output_type": "stream",
     "text": [
      "[0.162355,0.378835]\n",
      "Dimensões da coluna: (2,)\n",
      "\n",
      "[0.816956,0.378835,0.492678,0.820599]\n",
      "Dimensões da linha: (4,)\n",
      "\n"
     ]
    }
   ],
   "source": [
    "M = rand(2, 4)\n",
    "display(M)\n",
    "\n",
    "println(M[:, 2])\n",
    "\n",
    "println(\"Dimensões da coluna: $(size(M[:, 2]))\\n\")\n",
    "\n",
    "println(M[2, :])\n",
    "\n",
    "println(\"Dimensões da linha: $(size(M[2, :]))\\n\")"
   ]
  },
  {
   "cell_type": "markdown",
   "metadata": {},
   "source": [
    "O comando `size` devolve as dimensões $m$, e $n$ da matriz. No caso acima, ambos são vetores com tamanhos 2 e 4, respectivamente."
   ]
  },
  {
   "cell_type": "markdown",
   "metadata": {},
   "source": [
    "**Cuidado!** O comando abaixo cria uma *cópia* da coluna de $M$, não é como se ele fosse o endereço dessa parte da matriz. No exemplo abaixo, uma modificação em `coluna` não causa uma modificação na matriz `M` (a recíproca também é verdadeira)."
   ]
  },
  {
   "cell_type": "code",
   "execution_count": 14,
   "metadata": {},
   "outputs": [
    {
     "data": {
      "text/plain": [
       "3-element Array{Float64,1}:\n",
       " 2.0\n",
       " 0.0\n",
       " 0.0"
      ]
     },
     "metadata": {},
     "output_type": "display_data"
    },
    {
     "data": {
      "text/plain": [
       "3×3 Array{Float64,2}:\n",
       " 0.0  0.0  0.0\n",
       " 0.0  0.0  0.0\n",
       " 0.0  0.0  0.0"
      ]
     },
     "metadata": {},
     "output_type": "display_data"
    },
    {
     "data": {
      "text/plain": [
       "3×3 Array{Float64,2}:\n",
       " 0.0   0.0  0.0\n",
       " 0.0   0.0  0.0\n",
       " 0.0  -1.0  0.0"
      ]
     },
     "metadata": {},
     "output_type": "display_data"
    },
    {
     "data": {
      "text/plain": [
       "3-element Array{Float64,1}:\n",
       " 2.0\n",
       " 0.0\n",
       " 0.0"
      ]
     },
     "metadata": {},
     "output_type": "display_data"
    }
   ],
   "source": [
    "M = zeros(3, 3)\n",
    "\n",
    "# Coluna e um vetor (coluna) com 3 elementos\n",
    "coluna = M[:, 2]\n",
    "\n",
    "coluna[1] = 2.0\n",
    "\n",
    "display(coluna)\n",
    "\n",
    "display(M)\n",
    "\n",
    "M[3, 2] = - 1.0\n",
    "\n",
    "display(M)\n",
    "\n",
    "display(coluna)"
   ]
  },
  {
   "cell_type": "markdown",
   "metadata": {},
   "source": [
    "## Percorrendo com laços\n",
    "\n",
    "Geralmente usamos laços do tipo `for` para percorrer vetores e matrizes. A razão para isso é que geralmente sabemos seu tamanho e temos que percorrê-los por inteiro.\n",
    "\n",
    "Os comandos abaixo *inicializam* um vetor $v$ de forma que $v_i = i^2$."
   ]
  },
  {
   "cell_type": "code",
   "execution_count": 23,
   "metadata": {},
   "outputs": [
    {
     "name": "stdout",
     "output_type": "stream",
     "text": [
      "[1.0,4.0,9.0,16.0,25.0,36.0,49.0,64.0,81.0,100.0]\n"
     ]
    }
   ],
   "source": [
    "v = Vector{Float64}(10)\n",
    "\n",
    "for i = 1:length(v)\n",
    "    v[i] = i^2\n",
    "end\n",
    "\n",
    "println(v)"
   ]
  },
  {
   "cell_type": "markdown",
   "metadata": {},
   "source": [
    "O comando `length` devolve o tamanho de um vetor.\n",
    "\n",
    "Abaixo, somamos todas as posições do vetor $v$ criado acima: $\\sum \\limits_{i = 1}^n v_i$"
   ]
  },
  {
   "cell_type": "code",
   "execution_count": 36,
   "metadata": {},
   "outputs": [
    {
     "name": "stdout",
     "output_type": "stream",
     "text": [
      "A soma e' 385.0.\n"
     ]
    }
   ],
   "source": [
    "soma = 0.0\n",
    "for i = 1:length(v)\n",
    "    soma = soma + v[i]\n",
    "end\n",
    "\n",
    "println(\"A soma e' $(soma).\")"
   ]
  },
  {
   "cell_type": "markdown",
   "metadata": {},
   "source": [
    "Para matrizes, necessitamos de 2 laços: um para linhas e outro para colunas"
   ]
  },
  {
   "cell_type": "code",
   "execution_count": 38,
   "metadata": {},
   "outputs": [
    {
     "data": {
      "text/plain": [
       "5×10 Array{Float64,2}:\n",
       " 2.0  3.0  4.0  5.0   6.0   7.0   8.0   9.0  10.0  11.0\n",
       " 3.0  4.0  5.0  6.0   7.0   8.0   9.0  10.0  11.0  12.0\n",
       " 4.0  5.0  6.0  7.0   8.0   9.0  10.0  11.0  12.0  13.0\n",
       " 5.0  6.0  7.0  8.0   9.0  10.0  11.0  12.0  13.0  14.0\n",
       " 6.0  7.0  8.0  9.0  10.0  11.0  12.0  13.0  14.0  15.0"
      ]
     },
     "metadata": {},
     "output_type": "display_data"
    }
   ],
   "source": [
    "M = Array(Float64, 5, 10)\n",
    "\n",
    "m, n = size(M)\n",
    "\n",
    "# Em Julia, e' mais inteligente fixar a coluna primeiro\n",
    "for j = 1:n\n",
    "    for i = 1:m\n",
    "        M[i, j] = i + j\n",
    "    end\n",
    "end\n",
    "\n",
    "display(M)"
   ]
  },
  {
   "cell_type": "markdown",
   "metadata": {},
   "source": [
    "Abaixo, somamos todas as posições do vetor $M$ criado acima: $\\sum \\limits_{j = 1}^n \\sum \\limits_{i = 1}^m M_{ij}$"
   ]
  },
  {
   "cell_type": "code",
   "execution_count": 39,
   "metadata": {},
   "outputs": [
    {
     "name": "stdout",
     "output_type": "stream",
     "text": [
      "A soma e' 425.0\n"
     ]
    }
   ],
   "source": [
    "s = 0.0\n",
    "\n",
    "for j = 1:n\n",
    "    for i = 1:m\n",
    "        s = s + M[i, j]\n",
    "    end\n",
    "end\n",
    "\n",
    "println(\"A soma e' $(s)\")"
   ]
  },
  {
   "cell_type": "code",
   "execution_count": null,
   "metadata": {},
   "outputs": [],
   "source": []
  },
  {
   "cell_type": "markdown",
   "metadata": {},
   "source": [
    "## Memória"
   ]
  },
  {
   "cell_type": "markdown",
   "metadata": {},
   "source": [
    "### Acesso\n",
    "\n",
    "A forma como acessamos matrizes e vetores na memória tem uma grande influência na eficiência do código computacional. Tudo é influenciado pela forma como a linguagem de programação armazena a matriz na memória. Além disso, existe uma memória adicional, chamada *cache* que armazena temporariamente pequenas quantidades do vetor.\n",
    "\n",
    "Vamos ver o impacto de acessar elementos distantes na memoria em um vetor. Para isso criamos as funções abaixo, que realizam a soma dos elementos de um vetor `v`."
   ]
  },
  {
   "cell_type": "code",
   "execution_count": 72,
   "metadata": {},
   "outputs": [
    {
     "name": "stderr",
     "output_type": "stream",
     "text": [
      "WARNING: Method definition soma_lento(Any) in module Main at In[29]:6 overwritten at In[72]:6.\n",
      "\u001b[1m\u001b[31mWARNING: replacing docs for 'soma_lento :: Tuple{Any}' in module 'Main'.\u001b[0m\n",
      "WARNING: Method definition soma_rapido(Any) in module Main at In[29]:29 overwritten at In[72]:29.\n",
      "\u001b[1m\u001b[31mWARNING: replacing docs for 'soma_rapido :: Tuple{Any}' in module 'Main'.\u001b[0m\n"
     ]
    },
    {
     "data": {
      "text/plain": [
       "soma_rapido"
      ]
     },
     "execution_count": 72,
     "metadata": {},
     "output_type": "execute_result"
    }
   ],
   "source": [
    "\"\"\"\n",
    "Esta funcao realiza a soma dos elementos do vetor `v` de forma ineficiente\n",
    "\"\"\"\n",
    "function soma_lento(v)\n",
    "    \n",
    "    n = length(v)\n",
    "    \n",
    "    n2 = Int(round(n / 2))\n",
    "    \n",
    "    s = 0.0\n",
    "   \n",
    "    # Esta soma olha para 2 posicoes distantes na memoria\n",
    "    for i = 1:n2\n",
    "        \n",
    "        s = s + v[i] + v[n2 + i]\n",
    "        \n",
    "    end\n",
    "    \n",
    "    return s\n",
    "    \n",
    "end\n",
    "\n",
    "\"\"\"\n",
    "Esta funcao realiza a soma dos elementos do vetor `v` aproveitando o conhecimento de que\n",
    "posicoes proximas sao acessadas de forma mais rapida.\n",
    "\"\"\"\n",
    "function soma_rapido(v)\n",
    "    \n",
    "    n = length(v)\n",
    "    \n",
    "    s = 0.0\n",
    "   \n",
    "    # Soma dois valores proximos na memoria\n",
    "    for i = 1:2:n\n",
    "        \n",
    "        s = s + v[i] + v[i + 1]\n",
    "        \n",
    "    end\n",
    "    \n",
    "    return s\n",
    "    \n",
    "end"
   ]
  },
  {
   "cell_type": "markdown",
   "metadata": {},
   "source": [
    "Para medir o tempo, primeiramente temos que chamar as funções uma vez, com um vetor pequeno, apenas para o Julia compilar eficientemente o código."
   ]
  },
  {
   "cell_type": "code",
   "execution_count": 73,
   "metadata": {},
   "outputs": [],
   "source": [
    "vetor = ones(10); # cria um vetor de 1's.\n",
    "\n",
    "soma_lento(vetor);\n",
    "\n",
    "soma_rapido(vetor);"
   ]
  },
  {
   "cell_type": "markdown",
   "metadata": {},
   "source": [
    "Agora criamos um vetor aleatório com tamanho grande e medimos o tempo que cada função leva. **Atenção** ao criar um vetor muito grande, pois sua máquina pode travar. Quanto maior o vetor, maior a diferença entre os tempos."
   ]
  },
  {
   "cell_type": "code",
   "execution_count": 74,
   "metadata": {},
   "outputs": [
    {
     "name": "stdout",
     "output_type": "stream",
     "text": [
      "Lento: 0.010197861\n",
      "Rapido: 0.009762033\n"
     ]
    }
   ],
   "source": [
    "# Cria um vetor aleatorio. O tamanho escolhido deve ser natural e par.\n",
    "# Experimente aumentar o tamanho aos pouquinhos e ver como a diferença aumenta.\n",
    "vetor = rand(10000000)\n",
    "\n",
    "# Calcula o tempo para a soma ineficiente\n",
    "println(\"Lento: \", @elapsed(soma_lento(vetor)))\n",
    "\n",
    "# Calcula o tempo para a soma mais eficiente\n",
    "println(\"Rapido: \", @elapsed(soma_rapido(vetor)))"
   ]
  },
  {
   "cell_type": "markdown",
   "metadata": {},
   "source": [
    "O comando `@elapsed` conta o tempo para executar o comando passado por argumento."
   ]
  },
  {
   "cell_type": "markdown",
   "metadata": {},
   "source": [
    "### Economizando memória\n",
    "\n",
    "Você sabe a diferença entre os dois blocos de comando abaixo?"
   ]
  },
  {
   "cell_type": "code",
   "execution_count": 29,
   "metadata": {},
   "outputs": [
    {
     "name": "stdout",
     "output_type": "stream",
     "text": [
      "Ptr{Float64} @0x00007fb9ea8334d0\n",
      "Ptr{Float64} @0x00007fb9eafbc050\n"
     ]
    }
   ],
   "source": [
    "v1 = zeros(100)\n",
    "#println(pointer(v1))\n",
    "v1[10] = -10.0\n",
    "\n",
    "v1 = zeros(100);\n",
    "#println(pointer(v1))"
   ]
  },
  {
   "cell_type": "code",
   "execution_count": 30,
   "metadata": {},
   "outputs": [
    {
     "name": "stdout",
     "output_type": "stream",
     "text": [
      "Ptr{Float64} @0x00007fb9eafbc3d0\n",
      "Ptr{Float64} @0x00007fb9eafbc3d0\n"
     ]
    }
   ],
   "source": [
    "v2 = Vector{Float64}(100)\n",
    "\n",
    "for i = 1:length(v2)\n",
    "    v2[i] = 0.0\n",
    "end\n",
    "#println(pointer(v2))\n",
    "\n",
    "v2[10] = -10.0\n",
    "\n",
    "for i = 1:length(v2)\n",
    "    v2[i] = 0.0\n",
    "end\n",
    "#println(pointer(v2))"
   ]
  },
  {
   "cell_type": "markdown",
   "metadata": {},
   "source": [
    "Remova os comandos comentados e rode-os novamente. Observe que o endereço da memória no primeiro bloco é alterado, enquanto que no segundo não. Isso significa que toda vez que o comando `zeros` é chamado, ele cria um **novo** vetor, reservando um **novo** espaço na memória!"
   ]
  },
  {
   "cell_type": "code",
   "execution_count": 31,
   "metadata": {},
   "outputs": [
    {
     "data": {
      "text/plain": [
       "zera_pouca_memoria (generic function with 1 method)"
      ]
     },
     "execution_count": 31,
     "metadata": {},
     "output_type": "execute_result"
    }
   ],
   "source": [
    "function zera_muita_memoria()\n",
    "    \n",
    "    for k = 1:1000\n",
    "        \n",
    "        v = zeros(100)\n",
    "        \n",
    "        v[1] = 10.0\n",
    "    end\n",
    "    \n",
    "end\n",
    "\n",
    "function zera_pouca_memoria()\n",
    "\n",
    "    v = Vector{Float64}(100)\n",
    "    \n",
    "    for k = 1:1000\n",
    "        \n",
    "        for i = 1:length(v)\n",
    "            v[i] = 0.0\n",
    "        end\n",
    "        \n",
    "        v[1] = 10.0\n",
    "    end\n",
    "    \n",
    "end    "
   ]
  },
  {
   "cell_type": "code",
   "execution_count": 34,
   "metadata": {},
   "outputs": [
    {
     "name": "stdout",
     "output_type": "stream",
     "text": [
      "  0.000098 seconds (1.00 k allocations: 875.156 KB)\n"
     ]
    }
   ],
   "source": [
    "@time zera_muita_memoria()"
   ]
  },
  {
   "cell_type": "code",
   "execution_count": 35,
   "metadata": {},
   "outputs": [
    {
     "name": "stdout",
     "output_type": "stream",
     "text": [
      "  0.000052 seconds (5 allocations: 1.031 KB)\n"
     ]
    }
   ],
   "source": [
    "@time zera_pouca_memoria()"
   ]
  },
  {
   "cell_type": "markdown",
   "metadata": {},
   "source": [
    "O comando `@time` devolve o <U>tempo gasto</U> e o <U>número de alocações</U> de espaço na memória realizadas pela função.\n",
    "\n",
    "A primeira função utiliza aproximadamente **800** vezes mais memória que a segunda! Note que, ao invés de `Vector` poderíamos ter utilizado `zeros` na segunda função, contanto que estivesse *fora* do laço em $k$."
   ]
  },
  {
   "cell_type": "markdown",
   "metadata": {},
   "source": [
    "## Matrizes na memória\n",
    "\n",
    "Agora que observamos que valores próximos de um elemento do vetor são acessados mais rapidamente do que valores mais distantes, podemos estender o raciocínio para matrizes.\n",
    "\n",
    "Seja $M$ uma matriz $m \\times n$ e considere o elemento $M_{i,j}$. Qual elemento você acha que está mais próximo de $M_{i,j}$?\n",
    "\n",
    "  - $M_{i + 1, j}$\n",
    "  - $M_{i, j + 1}$\n",
    "  - $M_{i + 1, j + 1}$\n",
    "  - Todos\n",
    "  \n",
    "A resposta é: depende da linguagem de programação.\n",
    "\n",
    "Em Julia, matrizes são criadas na memória por colunas (*column oriented*, em inglês). Na linguagem de programação `C`, por exemplo, elas são criadas por linhas (*row oriented*). `Fortran` também é em colunas."
   ]
  },
  {
   "cell_type": "code",
   "execution_count": 32,
   "metadata": {},
   "outputs": [
    {
     "data": {
      "text/plain": [
       "10×10 Array{Float64,2}:\n",
       " 5.35725e199   6.0267e175    1.04e-152     …  2.13115e-312  0.0         \n",
       " 1.05695e-144  2.09537e-110  1.13245e-258     0.0           0.0         \n",
       " 4.45197e252   5.98142e-154  2.19993e-152     0.0           0.0         \n",
       " 2.06917e161   3.24255e-86   8.96955e-66      0.0           0.0         \n",
       " 1.50281e261   5.98142e-154  6.01347e-154     0.0           0.0         \n",
       " 2.43566e-154  2.87513e161   6.01347e-154  …  0.0           0.0         \n",
       " 6.83345e212   2.09574e214   2.28236e-152     0.0           0.0         \n",
       " 5.8967e-109   1.04099e-152  5.84527e-101     0.0           0.0         \n",
       " 5.98142e-154  3.67888e228   1.01157e-153     0.0           6.92113e-310\n",
       " 1.81068e44    2.8752e161    6.01347e-154     0.0           6.92113e-310"
      ]
     },
     "execution_count": 32,
     "metadata": {},
     "output_type": "execute_result"
    }
   ],
   "source": [
    "M = Array(Float64, 10, 10)"
   ]
  },
  {
   "cell_type": "markdown",
   "metadata": {},
   "source": [
    "O Código abaixo, simplesmente coloca números de 1 a 100 na matriz `M` criada acima. Como veremos adiante, a forma abaixo é a forma incorreta de acessar `M` em Julia."
   ]
  },
  {
   "cell_type": "code",
   "execution_count": 34,
   "metadata": {},
   "outputs": [
    {
     "data": {
      "text/plain": [
       "10×10 Array{Float64,2}:\n",
       "  1.0   2.0   3.0   4.0   5.0   6.0   7.0   8.0   9.0   10.0\n",
       " 11.0  12.0  13.0  14.0  15.0  16.0  17.0  18.0  19.0   20.0\n",
       " 21.0  22.0  23.0  24.0  25.0  26.0  27.0  28.0  29.0   30.0\n",
       " 31.0  32.0  33.0  34.0  35.0  36.0  37.0  38.0  39.0   40.0\n",
       " 41.0  42.0  43.0  44.0  45.0  46.0  47.0  48.0  49.0   50.0\n",
       " 51.0  52.0  53.0  54.0  55.0  56.0  57.0  58.0  59.0   60.0\n",
       " 61.0  62.0  63.0  64.0  65.0  66.0  67.0  68.0  69.0   70.0\n",
       " 71.0  72.0  73.0  74.0  75.0  76.0  77.0  78.0  79.0   80.0\n",
       " 81.0  82.0  83.0  84.0  85.0  86.0  87.0  88.0  89.0   90.0\n",
       " 91.0  92.0  93.0  94.0  95.0  96.0  97.0  98.0  99.0  100.0"
      ]
     },
     "metadata": {},
     "output_type": "display_data"
    }
   ],
   "source": [
    "k = 1.0\n",
    "\n",
    "for i = 1:10\n",
    "    \n",
    "    for j = 1:10\n",
    "        \n",
    "        M[i, j] = k\n",
    "        \n",
    "        k = k + 1\n",
    "        \n",
    "    end\n",
    "    \n",
    "end\n",
    "\n",
    "display(M)"
   ]
  },
  {
   "cell_type": "markdown",
   "metadata": {},
   "source": [
    "Para verificarmos inicialmente que matrizes são armazenadas por colunas, basta notarmos que Julia permite que acessemos os elementos de uma matriz como se ela fosse um vetor. O que você acha que é o elemento `M[15]`?"
   ]
  },
  {
   "cell_type": "code",
   "execution_count": 35,
   "metadata": {},
   "outputs": [
    {
     "data": {
      "text/plain": [
       "42.0"
      ]
     },
     "execution_count": 35,
     "metadata": {},
     "output_type": "execute_result"
    }
   ],
   "source": [
    "M[15]"
   ]
  },
  {
   "cell_type": "markdown",
   "metadata": {},
   "source": [
    "Observe que interessante o que ocorre quando percorremos a *matriz* `M` como um *vetor* em Julia!"
   ]
  },
  {
   "cell_type": "code",
   "execution_count": 37,
   "metadata": {},
   "outputs": [
    {
     "name": "stdout",
     "output_type": "stream",
     "text": [
      "1.0\n",
      "11.0\n",
      "21.0\n",
      "31.0\n",
      "41.0\n",
      "51.0\n",
      "61.0\n",
      "71.0\n",
      "81.0\n",
      "91.0\n",
      "2.0\n",
      "12.0\n",
      "22.0\n",
      "32.0\n",
      "42.0\n",
      "52.0\n",
      "62.0\n",
      "72.0\n",
      "82.0\n",
      "92.0\n",
      "3.0\n",
      "13.0\n",
      "23.0\n",
      "33.0\n",
      "43.0\n",
      "53.0\n",
      "63.0\n",
      "73.0\n",
      "83.0\n",
      "93.0\n",
      "4.0\n",
      "14.0\n",
      "24.0\n",
      "34.0\n",
      "44.0\n",
      "54.0\n",
      "64.0\n",
      "74.0\n",
      "84.0\n",
      "94.0\n",
      "5.0\n",
      "15.0\n",
      "25.0\n",
      "35.0\n",
      "45.0\n",
      "55.0\n",
      "65.0\n",
      "75.0\n",
      "85.0\n",
      "95.0\n",
      "6.0\n",
      "16.0\n",
      "26.0\n",
      "36.0\n",
      "46.0\n",
      "56.0\n",
      "66.0\n",
      "76.0\n",
      "86.0\n",
      "96.0\n",
      "7.0\n",
      "17.0\n",
      "27.0\n",
      "37.0\n",
      "47.0\n",
      "57.0\n",
      "67.0\n",
      "77.0\n",
      "87.0\n",
      "97.0\n",
      "8.0\n",
      "18.0\n",
      "28.0\n",
      "38.0\n",
      "48.0\n",
      "58.0\n",
      "68.0\n",
      "78.0\n",
      "88.0\n",
      "98.0\n",
      "9.0\n",
      "19.0\n",
      "29.0\n",
      "39.0\n",
      "49.0\n",
      "59.0\n",
      "69.0\n",
      "79.0\n",
      "89.0\n",
      "99.0\n",
      "10.0\n",
      "20.0\n",
      "30.0\n",
      "40.0\n",
      "50.0\n",
      "60.0\n",
      "70.0\n",
      "80.0\n",
      "90.0\n",
      "100.0\n"
     ]
    }
   ],
   "source": [
    "for i = 1:100\n",
    "    println(M[i])\n",
    "end"
   ]
  },
  {
   "cell_type": "markdown",
   "metadata": {},
   "source": [
    "Podemo ver que o elemento $M_{10,1}$ está mais próximo, *na memória*, de $M_{1,2}$ que de $M_{10, 2}$!"
   ]
  },
  {
   "cell_type": "code",
   "execution_count": 68,
   "metadata": {},
   "outputs": [
    {
     "name": "stderr",
     "output_type": "stream",
     "text": [
      "WARNING: Method definition inicializa_por_linha(Any) in module Main at In[63]:3 overwritten at In[68]:3.\n",
      "WARNING: Method definition inicializa_por_coluna(Any) in module Main at In[63]:25 overwritten at In[68]:25.\n"
     ]
    },
    {
     "data": {
      "text/plain": [
       "inicializa_por_coluna (generic function with 1 method)"
      ]
     },
     "execution_count": 68,
     "metadata": {},
     "output_type": "execute_result"
    }
   ],
   "source": [
    "function inicializa_por_linha(M)\n",
    "    \n",
    "    k = 0.0\n",
    "    \n",
    "    m, n = size(M)\n",
    "    \n",
    "    # Fixa a linha\n",
    "    for i = 1:m\n",
    "        \n",
    "        # Percorre as colunas\n",
    "        for j = 1:n\n",
    "            \n",
    "            M[i, j] = k\n",
    "            \n",
    "            k = k + 1\n",
    "            \n",
    "        end\n",
    "        \n",
    "    end\n",
    "    \n",
    "end\n",
    "\n",
    "function inicializa_por_coluna(M)\n",
    "    \n",
    "    k = 0.0\n",
    "    \n",
    "    m, n = size(M)\n",
    "    \n",
    "    # Fixa uma coluna\n",
    "    for j = 1:n\n",
    "        \n",
    "        # Percorre as linhas\n",
    "        for i = 1:m\n",
    "            \n",
    "            M[i, j] = k\n",
    "            \n",
    "            k = k + 1\n",
    "            \n",
    "        end\n",
    "        \n",
    "    end\n",
    "       \n",
    "end"
   ]
  },
  {
   "cell_type": "code",
   "execution_count": 69,
   "metadata": {},
   "outputs": [],
   "source": [
    "M = zeros(10, 10);\n",
    "\n",
    "@elapsed(inicializa_por_linha(M));\n",
    "\n",
    "@elapsed(inicializa_por_coluna(M));"
   ]
  },
  {
   "cell_type": "code",
   "execution_count": 70,
   "metadata": {},
   "outputs": [
    {
     "name": "stdout",
     "output_type": "stream",
     "text": [
      "Por linha: 0.002707039\n",
      "Por coluna:0.00093053\n"
     ]
    }
   ],
   "source": [
    "m = 1000\n",
    "n = 1000\n",
    "\n",
    "M = Array(Float64, m, n)\n",
    "\n",
    "println(\"Por linha: \", @elapsed(inicializa_por_linha(M)))\n",
    "\n",
    "println(\"Por coluna:\", @elapsed(inicializa_por_coluna(M)))"
   ]
  },
  {
   "cell_type": "markdown",
   "metadata": {},
   "source": [
    "**Observação**. Note que cada função gera uma matriz diferente (teste com $n$ e $m$ iguais a 10 para ver). Um exercício interessante é saber como modificar o código de colunas para produzir a mesma matriz da função por linhas (ou vice-versa)."
   ]
  },
  {
   "cell_type": "code",
   "execution_count": null,
   "metadata": {},
   "outputs": [],
   "source": []
  }
 ],
 "metadata": {
  "kernelspec": {
   "display_name": "Julia 0.5.2",
   "language": "julia",
   "name": "julia-0.5"
  },
  "language_info": {
   "file_extension": ".jl",
   "mimetype": "application/julia",
   "name": "julia",
   "version": "0.5.2"
  }
 },
 "nbformat": 4,
 "nbformat_minor": 2
}
