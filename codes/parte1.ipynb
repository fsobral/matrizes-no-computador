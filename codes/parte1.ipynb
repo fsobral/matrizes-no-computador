{
 "cells": [
  {
   "cell_type": "markdown",
   "metadata": {},
   "source": [
    "# Matrizes e vetores em Julia\n",
    "\n",
    "  - [Criando e acessando vetores e matrizes](#Criando-e-acessando)\n",
    "  - [Percorrendo com a ajuda de laços](#Percorrendo-com-laços)\n",
    "  - [Uso de memória](#Memória)"
   ]
  },
  {
   "cell_type": "markdown",
   "metadata": {},
   "source": [
    "## Criando e acessando"
   ]
  },
  {
   "cell_type": "markdown",
   "metadata": {},
   "source": [
    "Para criar vetores para números reais, o comando genérico é\n",
    "\n",
    "    Vector{Float64}(tamanho)\n",
    "    \n",
    "porém, existem outros comandos para criar vetores especiais: `ones`, `zeros` e `rand`.\n",
    "\n",
    "Ao criar um vetor com o comando `Vector` recebemos apenas um espaço na memória, cheio de sujeira."
   ]
  },
  {
   "cell_type": "code",
   "execution_count": null,
   "metadata": {},
   "outputs": [],
   "source": [
    "v = Vector{Float64}(undef, 5)"
   ]
  },
  {
   "cell_type": "code",
   "execution_count": null,
   "metadata": {},
   "outputs": [],
   "source": [
    "pointer(v) # Esse e' o endereco do vetor"
   ]
  },
  {
   "cell_type": "code",
   "execution_count": null,
   "metadata": {},
   "outputs": [],
   "source": [
    "sizeof(v) # Tamanho em bytes ocupado pelo vetor"
   ]
  },
  {
   "cell_type": "markdown",
   "metadata": {},
   "source": [
    "O comando abaixo cria um vetor de zeros. Como estamos guardando em `v` novamente, perdemos o endereço criado acima."
   ]
  },
  {
   "cell_type": "code",
   "execution_count": null,
   "metadata": {},
   "outputs": [],
   "source": [
    "v = zeros(5)"
   ]
  },
  {
   "cell_type": "code",
   "execution_count": null,
   "metadata": {},
   "outputs": [],
   "source": [
    "pointer(v)"
   ]
  },
  {
   "cell_type": "code",
   "execution_count": null,
   "metadata": {},
   "outputs": [],
   "source": [
    "ones(5)"
   ]
  },
  {
   "cell_type": "code",
   "execution_count": null,
   "metadata": {},
   "outputs": [],
   "source": [
    "rand(5)"
   ]
  },
  {
   "cell_type": "markdown",
   "metadata": {},
   "source": [
    "Para trabalhar com vetores (e matrizes também) utilizamos índices dentro de colchetes. A seguir criamos um vetor de zeros, colocamos o valor 1 na terceira posição e guardamos na quinta posição o resultado da soma de seus valores na primeira e terceira posições."
   ]
  },
  {
   "cell_type": "code",
   "execution_count": null,
   "metadata": {},
   "outputs": [],
   "source": [
    "v = zeros(7)\n",
    "\n",
    "# Armazena o valor 1 na posicao 3\n",
    "v[3] = 1.0\n",
    "\n",
    "# Armazena na posicao 5 o resultado da soma dos valores contidos nas posicoes 1 e 3\n",
    "v[5] = v[1] + v[3]\n",
    "\n",
    "println(v)"
   ]
  },
  {
   "cell_type": "markdown",
   "metadata": {},
   "source": [
    "Para criar matrizes de números reais, o comando\n",
    "\n",
    "    Array(Float64, m, n)\n",
    "    \n",
    "reserva um espaço para uma matriz com $m$ linhas e $n$ colunas e devolve o seu endereço na memória. Dentro dessa matriz não sabemos o que tem.\n",
    "\n",
    "De forma análoga, temos os comandos `zeros`, `ones` e `rand` para matrizes, que criam e colocam valores na matriz criada."
   ]
  },
  {
   "cell_type": "code",
   "execution_count": null,
   "metadata": {},
   "outputs": [],
   "source": [
    "M = Array{Float64}(undef, 5, 3) # Pode ter qualquer coisa nas posicoes da matriz criada dessa forma"
   ]
  },
  {
   "cell_type": "code",
   "execution_count": null,
   "metadata": {},
   "outputs": [],
   "source": [
    "pointer(M)"
   ]
  },
  {
   "cell_type": "code",
   "execution_count": null,
   "metadata": {},
   "outputs": [],
   "source": [
    "sizeof(M)"
   ]
  },
  {
   "cell_type": "code",
   "execution_count": null,
   "metadata": {},
   "outputs": [],
   "source": [
    "M = zeros(5, 3)"
   ]
  },
  {
   "cell_type": "code",
   "execution_count": null,
   "metadata": {},
   "outputs": [],
   "source": [
    "M = ones(5, 3)"
   ]
  },
  {
   "cell_type": "code",
   "execution_count": null,
   "metadata": {},
   "outputs": [],
   "source": [
    "M = rand(5, 3)"
   ]
  },
  {
   "cell_type": "markdown",
   "metadata": {},
   "source": [
    "A posição $(i, j)$ de uma matriz $M$ é acessada também utilizando colchetes, mas agora com duas dimensões, separadas por vírgula."
   ]
  },
  {
   "cell_type": "code",
   "execution_count": null,
   "metadata": {},
   "outputs": [],
   "source": [
    "# Cria uma matriz de 1s\n",
    "M = ones(2, 7)\n",
    "\n",
    "# Coloca os valor 10 na posição (1,5), substituindo o valor existente\n",
    "M[1, 5] = 10.0\n",
    "\n",
    "# Imprime o resultado da soma dos elementos (1,5), (2,1) e (2,7)\n",
    "soma = M[1, 5] + M[2, 1] + M[2, 7]\n",
    "\n",
    "println(\"O valor da soma e' $(soma).\")"
   ]
  },
  {
   "cell_type": "markdown",
   "metadata": {},
   "source": [
    "Colunas e linhas de uma matriz podem ser acessadas usando `:`, que significa **todas**. Por exemplo,\n",
    "\n",
    "    M[:, 2]\n",
    "    \n",
    "seleciona **todas as linhas** da coluna 2 de $M$. Por outro lado\n",
    "\n",
    "    M[2, :]\n",
    "    \n",
    "seleciona **todas as colunas** da linha 2 de $M$.\n",
    "\n",
    "Nos comandos abaixo, selecionamos $M^2$ e $M_2$."
   ]
  },
  {
   "cell_type": "code",
   "execution_count": null,
   "metadata": {},
   "outputs": [],
   "source": [
    "M = rand(2, 4)\n",
    "display(M)\n",
    "\n",
    "println(M[:, 2])\n",
    "\n",
    "println(\"Dimensões da coluna: $(size(M[:, 2]))\\n\")\n",
    "\n",
    "println(M[2, :])\n",
    "\n",
    "println(\"Dimensões da linha: $(size(M[2, :]))\\n\")"
   ]
  },
  {
   "cell_type": "markdown",
   "metadata": {},
   "source": [
    "O comando `size` devolve as dimensões $m$, e $n$ da matriz. No caso acima, ambos são vetores com tamanhos 2 e 4, respectivamente."
   ]
  },
  {
   "cell_type": "markdown",
   "metadata": {},
   "source": [
    "**Cuidado!** O comando abaixo cria uma *cópia* da coluna de $M$, não é como se ele fosse o endereço dessa parte da matriz. No exemplo abaixo, uma modificação em `coluna` não causa uma modificação na matriz `M` (a recíproca também é verdadeira)."
   ]
  },
  {
   "cell_type": "code",
   "execution_count": null,
   "metadata": {},
   "outputs": [],
   "source": [
    "M = zeros(3, 3)\n",
    "\n",
    "# Coluna e um vetor (coluna) com 3 elementos\n",
    "coluna = M[:, 2]\n",
    "\n",
    "coluna[1] = 2.0\n",
    "\n",
    "display(coluna)\n",
    "\n",
    "display(M)\n",
    "\n",
    "M[3, 2] = - 1.0\n",
    "\n",
    "display(M)\n",
    "\n",
    "display(coluna)"
   ]
  },
  {
   "cell_type": "markdown",
   "metadata": {},
   "source": [
    "## Percorrendo com laços\n",
    "\n",
    "Geralmente usamos laços do tipo `for` para percorrer vetores e matrizes. A razão para isso é que geralmente sabemos seu tamanho e temos que percorrê-los por inteiro.\n",
    "\n",
    "Os comandos abaixo *inicializam* um vetor $v$ de forma que $v_i = i^2$."
   ]
  },
  {
   "cell_type": "code",
   "execution_count": null,
   "metadata": {},
   "outputs": [],
   "source": [
    "v = Vector{Float64}(undef, 10)\n",
    "\n",
    "for i = 1:length(v)\n",
    "    v[i] = i^2\n",
    "end\n",
    "\n",
    "println(v)"
   ]
  },
  {
   "cell_type": "markdown",
   "metadata": {},
   "source": [
    "O comando `length` devolve o tamanho de um vetor.\n",
    "\n",
    "Abaixo, somamos todas as posições do vetor $v$ criado acima: $\\sum \\limits_{i = 1}^n v_i$"
   ]
  },
  {
   "cell_type": "code",
   "execution_count": null,
   "metadata": {},
   "outputs": [],
   "source": [
    "soma = 0.0\n",
    "for i = 1:length(v)\n",
    "    soma = soma + v[i]\n",
    "end\n",
    "\n",
    "println(\"A soma e' $(soma).\")"
   ]
  },
  {
   "cell_type": "markdown",
   "metadata": {},
   "source": [
    "Para matrizes, necessitamos de 2 laços: um para linhas e outro para colunas"
   ]
  },
  {
   "cell_type": "code",
   "execution_count": null,
   "metadata": {},
   "outputs": [],
   "source": [
    "M = Array{Float64}(undef, 5, 10)\n",
    "\n",
    "m, n = size(M)\n",
    "\n",
    "# Em Julia, e' mais inteligente fixar a coluna primeiro\n",
    "for j = 1:n\n",
    "    for i = 1:m\n",
    "        M[i, j] = i + j\n",
    "    end\n",
    "end\n",
    "\n",
    "display(M)"
   ]
  },
  {
   "cell_type": "markdown",
   "metadata": {},
   "source": [
    "Abaixo, somamos todas as posições do vetor $M$ criado acima: $\\sum \\limits_{j = 1}^n \\sum \\limits_{i = 1}^m m_{ij}$"
   ]
  },
  {
   "cell_type": "code",
   "execution_count": null,
   "metadata": {},
   "outputs": [],
   "source": [
    "s = 0.0\n",
    "\n",
    "for j = 1:n\n",
    "    for i = 1:m\n",
    "        s = s + M[i, j]\n",
    "    end\n",
    "end\n",
    "\n",
    "println(\"A soma e' $(s)\")"
   ]
  },
  {
   "cell_type": "markdown",
   "metadata": {},
   "source": [
    "Percorrendo a diagonal de uma matriz quadrada"
   ]
  },
  {
   "cell_type": "code",
   "execution_count": null,
   "metadata": {},
   "outputs": [],
   "source": [
    "M = rand(5, 5)\n",
    "\n",
    "for i = 1:5\n",
    "    println(M[i, i])\n",
    "end"
   ]
  },
  {
   "cell_type": "markdown",
   "metadata": {},
   "source": [
    "## Memória"
   ]
  },
  {
   "cell_type": "markdown",
   "metadata": {},
   "source": [
    "### Acesso\n",
    "\n",
    "A forma como acessamos matrizes e vetores na memória tem uma grande influência na eficiência do código computacional. Tudo é influenciado pela forma como a linguagem de programação armazena a matriz na memória. Além disso, existe uma memória adicional, chamada *cache* que armazena temporariamente pequenas quantidades do vetor.\n",
    "\n",
    "Vamos ver o impacto de acessar elementos distantes na memoria em um vetor. Para isso criamos as funções abaixo, que realizam a soma dos elementos de um vetor `v`."
   ]
  },
  {
   "cell_type": "code",
   "execution_count": null,
   "metadata": {},
   "outputs": [],
   "source": [
    "\"\"\"\n",
    "Esta funcao realiza a soma dos elementos do vetor `v` de forma ineficiente\n",
    "\"\"\"\n",
    "function soma_lento(v)\n",
    "    \n",
    "    n = length(v)\n",
    "    \n",
    "    n2 = Int(round(n / 2))\n",
    "    \n",
    "    s = 0.0\n",
    "   \n",
    "    # Esta soma olha para 2 posicoes distantes na memoria\n",
    "    for i = 1:n2\n",
    "        \n",
    "        s = s + v[2 * i - 1]\n",
    "        \n",
    "    end\n",
    "    for i = 1:n2\n",
    "        \n",
    "        s = s + v[2 * i]\n",
    "        \n",
    "    end\n",
    "    \n",
    "    return s\n",
    "    \n",
    "end\n",
    "\n",
    "\"\"\"\n",
    "Esta funcao realiza a soma dos elementos do vetor `v` aproveitando o conhecimento de que\n",
    "posicoes proximas sao acessadas de forma mais rapida.\n",
    "\"\"\"\n",
    "function soma_rapido(v)\n",
    "    \n",
    "    n = length(v)\n",
    "    \n",
    "    n2 = Int(round(n / 2))\n",
    "    \n",
    "    s = 0.0\n",
    "   \n",
    "    # Soma dois valores proximos na memoria\n",
    "    for i = 1:n2\n",
    "        \n",
    "        s = s + v[i]\n",
    "        \n",
    "    end\n",
    "    for i = n2 + 1:n\n",
    "        \n",
    "        s = s + v[i]\n",
    "        \n",
    "    end\n",
    "    \n",
    "    return s\n",
    "    \n",
    "end"
   ]
  },
  {
   "cell_type": "markdown",
   "metadata": {},
   "source": [
    "Para medir o tempo, primeiramente temos que chamar as funções uma vez, com um vetor pequeno, apenas para o Julia compilar eficientemente o código."
   ]
  },
  {
   "cell_type": "code",
   "execution_count": null,
   "metadata": {},
   "outputs": [],
   "source": [
    "vetor = ones(10); # cria um vetor de 1's.\n",
    "\n",
    "soma_lento(vetor);\n",
    "\n",
    "soma_rapido(vetor);"
   ]
  },
  {
   "cell_type": "markdown",
   "metadata": {},
   "source": [
    "Agora criamos um vetor aleatório com tamanho grande e medimos o tempo que cada função leva. **Atenção** ao criar um vetor muito grande, pois sua máquina pode travar. Quanto maior o vetor, maior a diferença entre os tempos."
   ]
  },
  {
   "cell_type": "code",
   "execution_count": null,
   "metadata": {},
   "outputs": [],
   "source": [
    "# Cria um vetor aleatorio. O tamanho escolhido deve ser natural e par.\n",
    "# Experimente aumentar o tamanho aos pouquinhos e ver como a diferença aumenta.\n",
    "vetor = rand(100000000)\n",
    "\n",
    "# Calcula o tempo para a soma ineficiente\n",
    "println(\"Lento: \", @elapsed(soma_lento(vetor)))\n",
    "\n",
    "# Calcula o tempo para a soma mais eficiente\n",
    "println(\"Rapido: \", @elapsed(soma_rapido(vetor)))"
   ]
  },
  {
   "cell_type": "code",
   "execution_count": null,
   "metadata": {},
   "outputs": [],
   "source": []
  },
  {
   "cell_type": "markdown",
   "metadata": {},
   "source": [
    "O comando `@elapsed` conta o tempo para executar o comando passado por argumento."
   ]
  },
  {
   "cell_type": "markdown",
   "metadata": {},
   "source": [
    "## Matrizes na memória\n",
    "\n",
    "Agora que observamos que valores próximos de um elemento do vetor são acessados mais rapidamente do que valores mais distantes, podemos estender o raciocínio para matrizes.\n",
    "\n",
    "Seja $M$ uma matriz $m \\times n$ e considere o elemento $M_{i,j}$. Qual elemento você acha que está mais próximo de $M_{i,j}$?\n",
    "\n",
    "  - $M_{i + 1, j}$\n",
    "  - $M_{i, j + 1}$\n",
    "  - $M_{i + 1, j + 1}$\n",
    "  - Todos\n",
    "  \n",
    "A resposta é: depende da linguagem de programação.\n",
    "\n",
    "Em Julia, matrizes são criadas na memória por colunas (*column oriented*, em inglês). Na linguagem de programação `C`, por exemplo, elas são criadas por linhas (*row oriented*). `Fortran` também é em colunas."
   ]
  },
  {
   "cell_type": "code",
   "execution_count": null,
   "metadata": {},
   "outputs": [],
   "source": [
    "M = Array{Float64}(undef, 10, 10)"
   ]
  },
  {
   "cell_type": "markdown",
   "metadata": {},
   "source": [
    "O Código abaixo, simplesmente coloca números de 1 a 100 na matriz `M` criada acima. Como veremos adiante, a forma abaixo é a forma incorreta de acessar `M` em Julia."
   ]
  },
  {
   "cell_type": "code",
   "execution_count": null,
   "metadata": {},
   "outputs": [],
   "source": [
    "k = 1.0\n",
    "\n",
    "for i = 1:10\n",
    "    \n",
    "    for j = 1:10\n",
    "        \n",
    "        M[i, j] = k\n",
    "        \n",
    "        k = k + 1\n",
    "        \n",
    "    end\n",
    "    \n",
    "end\n",
    "\n",
    "display(M)"
   ]
  },
  {
   "cell_type": "markdown",
   "metadata": {},
   "source": [
    "Para verificarmos inicialmente que matrizes são armazenadas por colunas, basta notarmos que Julia permite que acessemos os elementos de uma matriz como se ela fosse um vetor. O que você acha que é o elemento `M[15]`?"
   ]
  },
  {
   "cell_type": "code",
   "execution_count": null,
   "metadata": {},
   "outputs": [],
   "source": [
    "M[15]"
   ]
  },
  {
   "cell_type": "markdown",
   "metadata": {},
   "source": [
    "Observe que interessante o que ocorre quando percorremos a *matriz* `M` como um *vetor* em Julia!"
   ]
  },
  {
   "cell_type": "code",
   "execution_count": null,
   "metadata": {},
   "outputs": [],
   "source": [
    "for i = 1:100\n",
    "    println(M[i])\n",
    "end"
   ]
  },
  {
   "cell_type": "markdown",
   "metadata": {},
   "source": [
    "Podemo ver que o elemento $M_{10,1}$ está mais próximo, *na memória*, de $M_{1,2}$ que de $M_{10, 2}$!"
   ]
  },
  {
   "cell_type": "code",
   "execution_count": null,
   "metadata": {},
   "outputs": [],
   "source": [
    "function inicializa_por_linha(M)\n",
    "    \n",
    "    k = 0.0\n",
    "    \n",
    "    m, n = size(M)\n",
    "    \n",
    "    # Fixa a linha\n",
    "    for i = 1:m\n",
    "        \n",
    "        # Percorre as colunas\n",
    "        for j = 1:n\n",
    "            \n",
    "            M[i, j] = k\n",
    "            \n",
    "            k = k + 1\n",
    "            \n",
    "        end\n",
    "        \n",
    "    end\n",
    "    \n",
    "end\n",
    "\n",
    "function inicializa_por_coluna(M)\n",
    "    \n",
    "    k = 0.0\n",
    "    \n",
    "    m, n = size(M)\n",
    "    \n",
    "    # Fixa uma coluna\n",
    "    for j = 1:n\n",
    "        \n",
    "        # Percorre as linhas\n",
    "        for i = 1:m\n",
    "            \n",
    "            M[i, j] = k\n",
    "            \n",
    "            k = k + 1\n",
    "            \n",
    "        end\n",
    "        \n",
    "    end\n",
    "       \n",
    "end"
   ]
  },
  {
   "cell_type": "code",
   "execution_count": null,
   "metadata": {},
   "outputs": [],
   "source": [
    "M = zeros(10, 10);\n",
    "\n",
    "@elapsed(inicializa_por_linha(M));\n",
    "\n",
    "@elapsed(inicializa_por_coluna(M));"
   ]
  },
  {
   "cell_type": "code",
   "execution_count": null,
   "metadata": {},
   "outputs": [],
   "source": [
    "m = 1000\n",
    "n = 1000\n",
    "\n",
    "M = Array{Float64}(undef, m, n)\n",
    "\n",
    "println(\"Por linha: \", @elapsed(inicializa_por_linha(M)))\n",
    "\n",
    "println(\"Por coluna:\", @elapsed(inicializa_por_coluna(M)))"
   ]
  },
  {
   "cell_type": "markdown",
   "metadata": {},
   "source": [
    "**Observação**. Note que cada função gera uma matriz diferente (teste com $n$ e $m$ iguais a 10 para ver). Um exercício interessante é saber como modificar o código de colunas para produzir a mesma matriz da função por linhas (ou vice-versa)."
   ]
  },
  {
   "cell_type": "markdown",
   "metadata": {},
   "source": [
    "### Economizando memória\n",
    "\n",
    "Você sabe a diferença entre os dois blocos de comando abaixo?"
   ]
  },
  {
   "cell_type": "code",
   "execution_count": null,
   "metadata": {},
   "outputs": [],
   "source": [
    "v1 = zeros(100)\n",
    "#println(pointer(v1))\n",
    "v1[10] = -10.0\n",
    "\n",
    "v1 = zeros(100);\n",
    "#println(pointer(v1))"
   ]
  },
  {
   "cell_type": "code",
   "execution_count": null,
   "metadata": {},
   "outputs": [],
   "source": [
    "v2 = Vector{Float64}(undef, 100)\n",
    "\n",
    "for i = 1:length(v2)\n",
    "    v2[i] = 0.0\n",
    "end\n",
    "#println(pointer(v2))\n",
    "\n",
    "v2[10] = -10.0\n",
    "\n",
    "for i = 1:length(v2)\n",
    "    v2[i] = 0.0\n",
    "end\n",
    "#println(pointer(v2))"
   ]
  },
  {
   "cell_type": "markdown",
   "metadata": {},
   "source": [
    "Remova os comandos comentados e rode-os novamente. Observe que o endereço da memória no primeiro bloco é alterado, enquanto que no segundo não. Isso significa que toda vez que o comando `zeros` é chamado, ele cria um **novo** vetor, reservando um **novo** espaço na memória!"
   ]
  },
  {
   "cell_type": "code",
   "execution_count": null,
   "metadata": {},
   "outputs": [],
   "source": [
    "function zera_muita_memoria()\n",
    "    \n",
    "    for k = 1:1000\n",
    "        \n",
    "        v = zeros(100)\n",
    "        \n",
    "        v[1] = 10.0\n",
    "    end\n",
    "    \n",
    "end\n",
    "\n",
    "function zera_pouca_memoria()\n",
    "\n",
    "    v = Vector{Float64}(undef,100)\n",
    "    \n",
    "    for k = 1:1000\n",
    "        \n",
    "        for i = 1:length(v)\n",
    "            v[i] = 0.0\n",
    "        end\n",
    "        \n",
    "        v[1] = 10.0\n",
    "    end\n",
    "    \n",
    "end    "
   ]
  },
  {
   "cell_type": "code",
   "execution_count": null,
   "metadata": {},
   "outputs": [],
   "source": [
    "@time zera_muita_memoria()"
   ]
  },
  {
   "cell_type": "code",
   "execution_count": null,
   "metadata": {},
   "outputs": [],
   "source": [
    "@time zera_pouca_memoria()"
   ]
  },
  {
   "cell_type": "markdown",
   "metadata": {},
   "source": [
    "O comando `@time` devolve o <U>tempo gasto</U> e o <U>número de alocações</U> de espaço na memória realizadas pela função.\n",
    "\n",
    "A primeira função utiliza aproximadamente **800** vezes mais memória que a segunda! Note que, ao invés de `Vector` poderíamos ter utilizado `zeros` na segunda função, contanto que estivesse *fora* do laço em $k$.\n",
    "\n",
    "Ir para [Parte 2](parte2.ipynb)"
   ]
  }
 ],
 "metadata": {
  "kernelspec": {
   "display_name": "Julia 1.0.4",
   "language": "julia",
   "name": "julia-1.0"
  },
  "language_info": {
   "file_extension": ".jl",
   "mimetype": "application/julia",
   "name": "julia",
   "version": "1.0.4"
  }
 },
 "nbformat": 4,
 "nbformat_minor": 2
}
