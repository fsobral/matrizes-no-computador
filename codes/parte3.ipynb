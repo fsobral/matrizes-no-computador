{
 "cells": [
  {
   "cell_type": "markdown",
   "metadata": {},
   "source": [
    "# Matrizes esparsas"
   ]
  },
  {
   "cell_type": "markdown",
   "metadata": {},
   "source": [
    "## Matriz diagonal\n",
    "\n",
    "Nesse caso, temos uma matriz diagonal $D \\in \\mathbb{R}^{n \\times n}$ que será armazenada na forma de vetor, pois não precisamos guardar os zeros."
   ]
  },
  {
   "cell_type": "code",
   "execution_count": 1,
   "metadata": {},
   "outputs": [
    {
     "data": {
      "text/plain": [
       "diag_vetor (generic function with 1 method)"
      ]
     },
     "execution_count": 1,
     "metadata": {},
     "output_type": "execute_result"
    }
   ],
   "source": [
    "function diag_vetor(d, v)\n",
    "    \n",
    "    n = length(v)\n",
    "    \n",
    "    u = Vector{Float64}(n)\n",
    "    \n",
    "    for i = 1:n\n",
    "        u[i] = d[i] * v[i]\n",
    "    end\n",
    "    \n",
    "    return u\n",
    "    \n",
    "end"
   ]
  },
  {
   "cell_type": "code",
   "execution_count": 5,
   "metadata": {},
   "outputs": [],
   "source": [
    "D = [2.0   0   0   0;\n",
    "       0 3.0   0   0;\n",
    "       0   0 1.0   0;\n",
    "       0   0   0 1.0];\n",
    "\n",
    "d = [2.0, 3.0, 1.0, 1.0];\n",
    "\n",
    "v = [1, 2, 3, 4];"
   ]
  },
  {
   "cell_type": "markdown",
   "metadata": {},
   "source": [
    "Comparação entre a multiplicação tradicional e a especial"
   ]
  },
  {
   "cell_type": "code",
   "execution_count": 6,
   "metadata": {},
   "outputs": [
    {
     "data": {
      "text/plain": [
       "4-element Array{Float64,1}:\n",
       " 2.0\n",
       " 6.0\n",
       " 3.0\n",
       " 4.0"
      ]
     },
     "execution_count": 6,
     "metadata": {},
     "output_type": "execute_result"
    }
   ],
   "source": [
    "D * v"
   ]
  },
  {
   "cell_type": "code",
   "execution_count": 4,
   "metadata": {},
   "outputs": [
    {
     "data": {
      "text/plain": [
       "4-element Array{Float64,1}:\n",
       " 2.0\n",
       " 6.0\n",
       " 3.0\n",
       " 4.0"
      ]
     },
     "execution_count": 4,
     "metadata": {},
     "output_type": "execute_result"
    }
   ],
   "source": [
    "diag_vetor(d, v)"
   ]
  },
  {
   "cell_type": "markdown",
   "metadata": {},
   "source": [
    "Para fazer testes maiores, vamos usar a função `diagm` que constroi uma matriz com o vetor `d` na diagonal. Podemos observar que nosso código é mais rápido que o código otimizado de Julia!"
   ]
  },
  {
   "cell_type": "code",
   "execution_count": 22,
   "metadata": {},
   "outputs": [
    {
     "name": "stdout",
     "output_type": "stream",
     "text": [
      "Multiplicacao Especial:    6.642e-6\n",
      "Multiplicacao Tradicional: 0.004580777\n"
     ]
    }
   ],
   "source": [
    "n = 1000\n",
    "\n",
    "d = rand(n)\n",
    "\n",
    "D = diagm(d)\n",
    "\n",
    "v = rand(n)\n",
    "\n",
    "println(\"Multiplicacao Especial:    \", @elapsed(diag_vetor(d, v)))\n",
    "println(\"Multiplicacao Tradicional: \", @elapsed(D * v))"
   ]
  },
  {
   "cell_type": "markdown",
   "metadata": {},
   "source": [
    "Abaixo implementamos a multiplicação por uma matriz qualquer."
   ]
  },
  {
   "cell_type": "code",
   "execution_count": 17,
   "metadata": {},
   "outputs": [
    {
     "name": "stderr",
     "output_type": "stream",
     "text": [
      "WARNING: Method definition diag_mat(Any, Any) in module Main at In[12]:3 overwritten at In[17]:3.\n"
     ]
    },
    {
     "data": {
      "text/plain": [
       "diag_mat (generic function with 1 method)"
      ]
     },
     "execution_count": 17,
     "metadata": {},
     "output_type": "execute_result"
    }
   ],
   "source": [
    "function diag_mat(d, A)\n",
    "   \n",
    "    n = length(d)\n",
    "    \n",
    "    C = Array(Float64, n, n)\n",
    "    \n",
    "    for j = 1:n\n",
    "        \n",
    "        for i = 1:n\n",
    "            \n",
    "            C[i, j] = d[i] * A[i, j]\n",
    "            \n",
    "        end\n",
    "        \n",
    "    end\n",
    "    \n",
    "    return C\n",
    "    \n",
    "end "
   ]
  },
  {
   "cell_type": "code",
   "execution_count": 13,
   "metadata": {},
   "outputs": [],
   "source": [
    "D = [2.0   0   0   0;\n",
    "       0 3.0   0   0;\n",
    "       0   0 1.0   0;\n",
    "       0   0   0 1.0];\n",
    "\n",
    "d = [2.0, 3.0, 1.0, 1.0];\n",
    "\n",
    "A = [1.0 2.0 3.0 4.0;\n",
    "     5.0 6.0 7.0 8.0;\n",
    "     9.0 1.0 2.0 3.0;\n",
    "     4.0 5.0 6.0 7.0];"
   ]
  },
  {
   "cell_type": "code",
   "execution_count": 14,
   "metadata": {},
   "outputs": [
    {
     "data": {
      "text/plain": [
       "4×4 Array{Float64,2}:\n",
       "  2.0   4.0   6.0   8.0\n",
       " 15.0  18.0  21.0  24.0\n",
       "  9.0   1.0   2.0   3.0\n",
       "  4.0   5.0   6.0   7.0"
      ]
     },
     "execution_count": 14,
     "metadata": {},
     "output_type": "execute_result"
    }
   ],
   "source": [
    "D * A"
   ]
  },
  {
   "cell_type": "code",
   "execution_count": 18,
   "metadata": {},
   "outputs": [
    {
     "data": {
      "text/plain": [
       "4×4 Array{Float64,2}:\n",
       "  2.0   4.0   6.0   8.0\n",
       " 15.0  18.0  21.0  24.0\n",
       "  9.0   1.0   2.0   3.0\n",
       "  4.0   5.0   6.0   7.0"
      ]
     },
     "execution_count": 18,
     "metadata": {},
     "output_type": "execute_result"
    }
   ],
   "source": [
    "diag_mat(d, A)"
   ]
  },
  {
   "cell_type": "markdown",
   "metadata": {},
   "source": [
    "Novamente, usamos matrizes maiores para testar o tempo que ganhamos com o armazenamento esparso. Observe que nosso código é 10 vezes mais rápido!"
   ]
  },
  {
   "cell_type": "code",
   "execution_count": 21,
   "metadata": {},
   "outputs": [
    {
     "name": "stdout",
     "output_type": "stream",
     "text": [
      "Multiplicacao Especial:    0.001879877\n",
      "Multiplicacao Tradicional: 0.025858895\n"
     ]
    }
   ],
   "source": [
    "n = 1000\n",
    "\n",
    "d = rand(n)\n",
    "\n",
    "D = diagm(d)\n",
    "\n",
    "A = rand(n, n)\n",
    "\n",
    "println(\"Multiplicacao Especial:    \", @elapsed(diag_mat(d, A)))\n",
    "println(\"Multiplicacao Tradicional: \", @elapsed(D * A))"
   ]
  },
  {
   "cell_type": "markdown",
   "metadata": {},
   "source": [
    "## Desafio: matriz esparsa\n",
    "\n",
    "Considere a matriz\n",
    "$$\n",
    "A =\n",
    "\\begin{bmatrix}\n",
    "4 & 0 & 2 & 0 & 0 \\\\\n",
    "0 & 5 & 0 & 0 & 0 \\\\\n",
    "0 & 0 & 0 & 0 & 0 \\\\\n",
    "0 & 0 & 0 & 0 & 0 \\\\\n",
    "0 & 0 & 0 & 0 & 0 \\\\\n",
    "\\end{bmatrix}\n",
    "$$\n",
    "\n",
    "Como $A$ tem muitos zeros, podemos armazená-la de uma forma inteligente através de 3 vetores:\n",
    "  - `vi[k]` guarda a linha do $k$-ésimo elemento não nulo\n",
    "  - `vj[k]` guarda a coluna do $k$-ésimo elemento não nulo\n",
    "  - `v[k]` guarda o valor do $k$-ésimo elemento não nulo\n",
    "  \n",
    "Para $A$, teremos, por exemplo, que\n",
    "\n",
    "    vi = [1, 2, 1]\n",
    "    vj = [1, 2, 3]\n",
    "    v  = [4, 5, 2]\n",
    "    \n",
    "Supondo que uma matriz $A$ qualquer é dada nessa estrutura, como você implementaria o produto matriz-vetor e matriz-matriz?"
   ]
  }
 ],
 "metadata": {
  "kernelspec": {
   "display_name": "Julia 0.5.2",
   "language": "julia",
   "name": "julia-0.5"
  },
  "language_info": {
   "file_extension": ".jl",
   "mimetype": "application/julia",
   "name": "julia",
   "version": "0.5.2"
  }
 },
 "nbformat": 4,
 "nbformat_minor": 2
}
